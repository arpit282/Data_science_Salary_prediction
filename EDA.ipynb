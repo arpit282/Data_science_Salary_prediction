{
 "cells": [
  {
   "cell_type": "code",
   "execution_count": 1,
   "metadata": {},
   "outputs": [],
   "source": [
    "import pandas as pd\n",
    "import matplotlib.pyplot as plt\n",
    "%matplotlib inline\n",
    "import seaborn as sns"
   ]
  },
  {
   "cell_type": "code",
   "execution_count": 2,
   "metadata": {},
   "outputs": [
    {
     "data": {
      "text/html": [
       "<div>\n",
       "<style scoped>\n",
       "    .dataframe tbody tr th:only-of-type {\n",
       "        vertical-align: middle;\n",
       "    }\n",
       "\n",
       "    .dataframe tbody tr th {\n",
       "        vertical-align: top;\n",
       "    }\n",
       "\n",
       "    .dataframe thead th {\n",
       "        text-align: right;\n",
       "    }\n",
       "</style>\n",
       "<table border=\"1\" class=\"dataframe\">\n",
       "  <thead>\n",
       "    <tr style=\"text-align: right;\">\n",
       "      <th></th>\n",
       "      <th>Job Title</th>\n",
       "      <th>Salary Estimate</th>\n",
       "      <th>Job Description</th>\n",
       "      <th>Rating</th>\n",
       "      <th>Company Name</th>\n",
       "      <th>Location</th>\n",
       "      <th>Headquarters</th>\n",
       "      <th>Size</th>\n",
       "      <th>Founded</th>\n",
       "      <th>Type of ownership</th>\n",
       "      <th>...</th>\n",
       "      <th>Revenue</th>\n",
       "      <th>Competitors</th>\n",
       "      <th>Monthly</th>\n",
       "      <th>salary</th>\n",
       "      <th>age</th>\n",
       "      <th>python_yn</th>\n",
       "      <th>R_yn</th>\n",
       "      <th>spark</th>\n",
       "      <th>aws</th>\n",
       "      <th>excel</th>\n",
       "    </tr>\n",
       "  </thead>\n",
       "  <tbody>\n",
       "    <tr>\n",
       "      <th>0</th>\n",
       "      <td>Data Engineer</td>\n",
       "      <td>₹59K - ₹64K</td>\n",
       "      <td>About phData\\n\\nWe build next-generation strat...</td>\n",
       "      <td>2.9</td>\n",
       "      <td>phData\\n2.9</td>\n",
       "      <td>Bengaluru</td>\n",
       "      <td>Minneapolis, MN</td>\n",
       "      <td>51 to 200 employees</td>\n",
       "      <td>2014</td>\n",
       "      <td>Company - Private</td>\n",
       "      <td>...</td>\n",
       "      <td>Unknown / Non-Applicable</td>\n",
       "      <td>-1</td>\n",
       "      <td>0</td>\n",
       "      <td>59.0</td>\n",
       "      <td>6</td>\n",
       "      <td>1</td>\n",
       "      <td>0</td>\n",
       "      <td>1</td>\n",
       "      <td>1</td>\n",
       "      <td>1</td>\n",
       "    </tr>\n",
       "    <tr>\n",
       "      <th>1</th>\n",
       "      <td>Data Scientist</td>\n",
       "      <td>₹2,353K - ₹2,511K</td>\n",
       "      <td>Position: Data Scientist\\n\\nLocation: Pune, In...</td>\n",
       "      <td>3.9</td>\n",
       "      <td>NICE Actimize\\n3.9</td>\n",
       "      <td>Pune</td>\n",
       "      <td>Hoboken, NJ</td>\n",
       "      <td>501 to 1000 employees</td>\n",
       "      <td>1999</td>\n",
       "      <td>Subsidiary or Business Segment</td>\n",
       "      <td>...</td>\n",
       "      <td>Unknown / Non-Applicable</td>\n",
       "      <td>SAS, Feedzai</td>\n",
       "      <td>0</td>\n",
       "      <td>2353.0</td>\n",
       "      <td>21</td>\n",
       "      <td>1</td>\n",
       "      <td>0</td>\n",
       "      <td>0</td>\n",
       "      <td>0</td>\n",
       "      <td>1</td>\n",
       "    </tr>\n",
       "    <tr>\n",
       "      <th>2</th>\n",
       "      <td>Data Scientist</td>\n",
       "      <td>₹1,471,718</td>\n",
       "      <td>Date: Jul 9, 2020\\n\\nAs the tech firm that cre...</td>\n",
       "      <td>3.9</td>\n",
       "      <td>Ericsson-Worldwide\\n3.9</td>\n",
       "      <td>Noida</td>\n",
       "      <td>Stockholm, Sweden</td>\n",
       "      <td>10000+ employees</td>\n",
       "      <td>1876</td>\n",
       "      <td>Company - Public</td>\n",
       "      <td>...</td>\n",
       "      <td>₹500+ billion (INR)</td>\n",
       "      <td>Huawei Technologies, IBM, Cisco Systems</td>\n",
       "      <td>0</td>\n",
       "      <td>1471718.0</td>\n",
       "      <td>144</td>\n",
       "      <td>1</td>\n",
       "      <td>0</td>\n",
       "      <td>0</td>\n",
       "      <td>0</td>\n",
       "      <td>1</td>\n",
       "    </tr>\n",
       "    <tr>\n",
       "      <th>3</th>\n",
       "      <td>Data Scientist</td>\n",
       "      <td>₹1,532,392</td>\n",
       "      <td>At Amazon, we strive to be most customer-centr...</td>\n",
       "      <td>4.3</td>\n",
       "      <td>Amazon\\n4.3</td>\n",
       "      <td>Hyderabad</td>\n",
       "      <td>Seattle, WA</td>\n",
       "      <td>10000+ employees</td>\n",
       "      <td>1994</td>\n",
       "      <td>Company - Public</td>\n",
       "      <td>...</td>\n",
       "      <td>₹500+ billion (INR)</td>\n",
       "      <td>Google, Microsoft, Walmart</td>\n",
       "      <td>0</td>\n",
       "      <td>1532392.0</td>\n",
       "      <td>26</td>\n",
       "      <td>1</td>\n",
       "      <td>0</td>\n",
       "      <td>1</td>\n",
       "      <td>1</td>\n",
       "      <td>1</td>\n",
       "    </tr>\n",
       "    <tr>\n",
       "      <th>4</th>\n",
       "      <td>Data Scientist</td>\n",
       "      <td>₹1,206,892</td>\n",
       "      <td>Introduction\\n• The role will involve running ...</td>\n",
       "      <td>3.9</td>\n",
       "      <td>IBM\\n3.9</td>\n",
       "      <td>Gurgaon</td>\n",
       "      <td>Armonk, NY</td>\n",
       "      <td>10000+ employees</td>\n",
       "      <td>1911</td>\n",
       "      <td>Company - Public</td>\n",
       "      <td>...</td>\n",
       "      <td>₹500+ billion (INR)</td>\n",
       "      <td>Amazon, Accenture, Microsoft</td>\n",
       "      <td>0</td>\n",
       "      <td>1206892.0</td>\n",
       "      <td>109</td>\n",
       "      <td>1</td>\n",
       "      <td>0</td>\n",
       "      <td>0</td>\n",
       "      <td>0</td>\n",
       "      <td>0</td>\n",
       "    </tr>\n",
       "  </tbody>\n",
       "</table>\n",
       "<p>5 rows × 22 columns</p>\n",
       "</div>"
      ],
      "text/plain": [
       "        Job Title    Salary Estimate  \\\n",
       "0   Data Engineer        ₹59K - ₹64K   \n",
       "1  Data Scientist  ₹2,353K - ₹2,511K   \n",
       "2  Data Scientist         ₹1,471,718   \n",
       "3  Data Scientist         ₹1,532,392   \n",
       "4  Data Scientist         ₹1,206,892   \n",
       "\n",
       "                                     Job Description  Rating  \\\n",
       "0  About phData\\n\\nWe build next-generation strat...     2.9   \n",
       "1  Position: Data Scientist\\n\\nLocation: Pune, In...     3.9   \n",
       "2  Date: Jul 9, 2020\\n\\nAs the tech firm that cre...     3.9   \n",
       "3  At Amazon, we strive to be most customer-centr...     4.3   \n",
       "4  Introduction\\n• The role will involve running ...     3.9   \n",
       "\n",
       "              Company Name   Location       Headquarters  \\\n",
       "0              phData\\n2.9  Bengaluru    Minneapolis, MN   \n",
       "1       NICE Actimize\\n3.9       Pune        Hoboken, NJ   \n",
       "2  Ericsson-Worldwide\\n3.9      Noida  Stockholm, Sweden   \n",
       "3              Amazon\\n4.3  Hyderabad        Seattle, WA   \n",
       "4                 IBM\\n3.9    Gurgaon         Armonk, NY   \n",
       "\n",
       "                    Size  Founded               Type of ownership  ...  \\\n",
       "0    51 to 200 employees     2014               Company - Private  ...   \n",
       "1  501 to 1000 employees     1999  Subsidiary or Business Segment  ...   \n",
       "2       10000+ employees     1876                Company - Public  ...   \n",
       "3       10000+ employees     1994                Company - Public  ...   \n",
       "4       10000+ employees     1911                Company - Public  ...   \n",
       "\n",
       "                    Revenue                              Competitors Monthly  \\\n",
       "0  Unknown / Non-Applicable                                       -1       0   \n",
       "1  Unknown / Non-Applicable                             SAS, Feedzai       0   \n",
       "2       ₹500+ billion (INR)  Huawei Technologies, IBM, Cisco Systems       0   \n",
       "3       ₹500+ billion (INR)               Google, Microsoft, Walmart       0   \n",
       "4       ₹500+ billion (INR)             Amazon, Accenture, Microsoft       0   \n",
       "\n",
       "      salary  age  python_yn  R_yn  spark  aws  excel  \n",
       "0       59.0    6          1     0      1    1      1  \n",
       "1     2353.0   21          1     0      0    0      1  \n",
       "2  1471718.0  144          1     0      0    0      1  \n",
       "3  1532392.0   26          1     0      1    1      1  \n",
       "4  1206892.0  109          1     0      0    0      0  \n",
       "\n",
       "[5 rows x 22 columns]"
      ]
     },
     "execution_count": 2,
     "metadata": {},
     "output_type": "execute_result"
    }
   ],
   "source": [
    "df = pd.read_csv('data_cleaned.csv')\n",
    "df.head()"
   ]
  },
  {
   "cell_type": "code",
   "execution_count": 3,
   "metadata": {},
   "outputs": [],
   "source": [
    "def title_simplifier(title):\n",
    "    if 'data scientist' in title.lower():\n",
    "        return 'data scientist'\n",
    "    elif 'data engineer' in title.lower():\n",
    "        return 'data engineer'\n",
    "    elif 'analyst' in title.lower():\n",
    "        return 'analyst'\n",
    "    elif 'machine learning' in title.lower():\n",
    "        return 'mle'\n",
    "    elif 'manager' in title.lower():\n",
    "        return 'manager'\n",
    "    elif 'director' in title.lower():\n",
    "        return 'director'\n",
    "    else:\n",
    "        return 'na'\n",
    "    \n",
    "def seniority(title):\n",
    "    if 'sr' in title.lower() or 'senior' in title.lower() or 'sr' in title.lower() or 'lead' in title.lower() or 'principal' in title.lower():\n",
    "            return 'senior'\n",
    "    elif 'jr' in title.lower() or 'jr.' in title.lower():\n",
    "        return 'jr'\n",
    "    else:\n",
    "        return 'na'"
   ]
  },
  {
   "cell_type": "code",
   "execution_count": 4,
   "metadata": {},
   "outputs": [],
   "source": [
    "df['job_simp'] = df['Job Title'].apply(title_simplifier)"
   ]
  },
  {
   "cell_type": "code",
   "execution_count": 5,
   "metadata": {},
   "outputs": [
    {
     "data": {
      "text/plain": [
       "data scientist    85\n",
       "analyst            3\n",
       "na                 2\n",
       "data engineer      1\n",
       "mle                1\n",
       "Name: job_simp, dtype: int64"
      ]
     },
     "execution_count": 5,
     "metadata": {},
     "output_type": "execute_result"
    }
   ],
   "source": [
    "df.job_simp.value_counts()"
   ]
  },
  {
   "cell_type": "code",
   "execution_count": 6,
   "metadata": {},
   "outputs": [],
   "source": [
    "df['seniority'] = df['Job Title'].apply(seniority)"
   ]
  },
  {
   "cell_type": "code",
   "execution_count": 7,
   "metadata": {},
   "outputs": [
    {
     "data": {
      "text/plain": [
       "na        89\n",
       "senior     3\n",
       "Name: seniority, dtype: int64"
      ]
     },
     "execution_count": 7,
     "metadata": {},
     "output_type": "execute_result"
    }
   ],
   "source": [
    "df.seniority.value_counts()"
   ]
  },
  {
   "cell_type": "code",
   "execution_count": 8,
   "metadata": {},
   "outputs": [
    {
     "data": {
      "text/plain": [
       "0     3541\n",
       "1     2970\n",
       "2     3856\n",
       "3     4616\n",
       "4     3937\n",
       "      ... \n",
       "87    3717\n",
       "88    2818\n",
       "89    1285\n",
       "90    1577\n",
       "91    3575\n",
       "Name: desc_len, Length: 92, dtype: int64"
      ]
     },
     "execution_count": 8,
     "metadata": {},
     "output_type": "execute_result"
    }
   ],
   "source": [
    "df['desc_len'] = df['Job Description'].apply(lambda x: len(x))\n",
    "df['desc_len']"
   ]
  },
  {
   "cell_type": "code",
   "execution_count": 9,
   "metadata": {},
   "outputs": [
    {
     "data": {
      "text/plain": [
       "0     0\n",
       "1     2\n",
       "2     3\n",
       "3     3\n",
       "4     3\n",
       "     ..\n",
       "87    3\n",
       "88    3\n",
       "89    3\n",
       "90    0\n",
       "91    0\n",
       "Name: num_comp, Length: 92, dtype: int64"
      ]
     },
     "execution_count": 9,
     "metadata": {},
     "output_type": "execute_result"
    }
   ],
   "source": [
    "df['num_comp'] = df['Competitors'].apply(lambda x: len(x.split(',')) if x != '-1' else 0)\n",
    "df['num_comp']"
   ]
  },
  {
   "cell_type": "code",
   "execution_count": 10,
   "metadata": {},
   "outputs": [
    {
     "data": {
      "text/plain": [
       "0                                                    -1\n",
       "1                                          SAS, Feedzai\n",
       "2               Huawei Technologies, IBM, Cisco Systems\n",
       "3                            Google, Microsoft, Walmart\n",
       "4                          Amazon, Accenture, Microsoft\n",
       "                            ...                        \n",
       "87                       Capgemini, Accenture, Deloitte\n",
       "88                            GlowRoad, Shop101, Wooplr\n",
       "89    Mindtree, Happiest Minds Technologies, Altran ...\n",
       "90                                                   -1\n",
       "91                                                   -1\n",
       "Name: Competitors, Length: 92, dtype: object"
      ]
     },
     "execution_count": 10,
     "metadata": {},
     "output_type": "execute_result"
    }
   ],
   "source": [
    "df['Competitors']"
   ]
  },
  {
   "cell_type": "code",
   "execution_count": 11,
   "metadata": {},
   "outputs": [
    {
     "data": {
      "text/html": [
       "<div>\n",
       "<style scoped>\n",
       "    .dataframe tbody tr th:only-of-type {\n",
       "        vertical-align: middle;\n",
       "    }\n",
       "\n",
       "    .dataframe tbody tr th {\n",
       "        vertical-align: top;\n",
       "    }\n",
       "\n",
       "    .dataframe thead th {\n",
       "        text-align: right;\n",
       "    }\n",
       "</style>\n",
       "<table border=\"1\" class=\"dataframe\">\n",
       "  <thead>\n",
       "    <tr style=\"text-align: right;\">\n",
       "      <th></th>\n",
       "      <th>Job Title</th>\n",
       "      <th>Salary Estimate</th>\n",
       "      <th>Job Description</th>\n",
       "      <th>Rating</th>\n",
       "      <th>Company Name</th>\n",
       "      <th>Location</th>\n",
       "      <th>Headquarters</th>\n",
       "      <th>Size</th>\n",
       "      <th>Founded</th>\n",
       "      <th>Type of ownership</th>\n",
       "      <th>...</th>\n",
       "      <th>age</th>\n",
       "      <th>python_yn</th>\n",
       "      <th>R_yn</th>\n",
       "      <th>spark</th>\n",
       "      <th>aws</th>\n",
       "      <th>excel</th>\n",
       "      <th>job_simp</th>\n",
       "      <th>seniority</th>\n",
       "      <th>desc_len</th>\n",
       "      <th>num_comp</th>\n",
       "    </tr>\n",
       "  </thead>\n",
       "  <tbody>\n",
       "    <tr>\n",
       "      <th>0</th>\n",
       "      <td>Data Engineer</td>\n",
       "      <td>₹59K - ₹64K</td>\n",
       "      <td>About phData\\n\\nWe build next-generation strat...</td>\n",
       "      <td>2.9</td>\n",
       "      <td>phData\\n2.9</td>\n",
       "      <td>Bengaluru</td>\n",
       "      <td>Minneapolis, MN</td>\n",
       "      <td>51 to 200 employees</td>\n",
       "      <td>2014</td>\n",
       "      <td>Company - Private</td>\n",
       "      <td>...</td>\n",
       "      <td>6</td>\n",
       "      <td>1</td>\n",
       "      <td>0</td>\n",
       "      <td>1</td>\n",
       "      <td>1</td>\n",
       "      <td>1</td>\n",
       "      <td>data engineer</td>\n",
       "      <td>na</td>\n",
       "      <td>3541</td>\n",
       "      <td>0</td>\n",
       "    </tr>\n",
       "    <tr>\n",
       "      <th>1</th>\n",
       "      <td>Data Scientist</td>\n",
       "      <td>₹2,353K - ₹2,511K</td>\n",
       "      <td>Position: Data Scientist\\n\\nLocation: Pune, In...</td>\n",
       "      <td>3.9</td>\n",
       "      <td>NICE Actimize\\n3.9</td>\n",
       "      <td>Pune</td>\n",
       "      <td>Hoboken, NJ</td>\n",
       "      <td>501 to 1000 employees</td>\n",
       "      <td>1999</td>\n",
       "      <td>Subsidiary or Business Segment</td>\n",
       "      <td>...</td>\n",
       "      <td>21</td>\n",
       "      <td>1</td>\n",
       "      <td>0</td>\n",
       "      <td>0</td>\n",
       "      <td>0</td>\n",
       "      <td>1</td>\n",
       "      <td>data scientist</td>\n",
       "      <td>na</td>\n",
       "      <td>2970</td>\n",
       "      <td>2</td>\n",
       "    </tr>\n",
       "    <tr>\n",
       "      <th>2</th>\n",
       "      <td>Data Scientist</td>\n",
       "      <td>₹1,471,718</td>\n",
       "      <td>Date: Jul 9, 2020\\n\\nAs the tech firm that cre...</td>\n",
       "      <td>3.9</td>\n",
       "      <td>Ericsson-Worldwide\\n3.9</td>\n",
       "      <td>Noida</td>\n",
       "      <td>Stockholm, Sweden</td>\n",
       "      <td>10000+ employees</td>\n",
       "      <td>1876</td>\n",
       "      <td>Company - Public</td>\n",
       "      <td>...</td>\n",
       "      <td>144</td>\n",
       "      <td>1</td>\n",
       "      <td>0</td>\n",
       "      <td>0</td>\n",
       "      <td>0</td>\n",
       "      <td>1</td>\n",
       "      <td>data scientist</td>\n",
       "      <td>na</td>\n",
       "      <td>3856</td>\n",
       "      <td>3</td>\n",
       "    </tr>\n",
       "    <tr>\n",
       "      <th>3</th>\n",
       "      <td>Data Scientist</td>\n",
       "      <td>₹1,532,392</td>\n",
       "      <td>At Amazon, we strive to be most customer-centr...</td>\n",
       "      <td>4.3</td>\n",
       "      <td>Amazon\\n4.3</td>\n",
       "      <td>Hyderabad</td>\n",
       "      <td>Seattle, WA</td>\n",
       "      <td>10000+ employees</td>\n",
       "      <td>1994</td>\n",
       "      <td>Company - Public</td>\n",
       "      <td>...</td>\n",
       "      <td>26</td>\n",
       "      <td>1</td>\n",
       "      <td>0</td>\n",
       "      <td>1</td>\n",
       "      <td>1</td>\n",
       "      <td>1</td>\n",
       "      <td>data scientist</td>\n",
       "      <td>na</td>\n",
       "      <td>4616</td>\n",
       "      <td>3</td>\n",
       "    </tr>\n",
       "    <tr>\n",
       "      <th>4</th>\n",
       "      <td>Data Scientist</td>\n",
       "      <td>₹1,206,892</td>\n",
       "      <td>Introduction\\n• The role will involve running ...</td>\n",
       "      <td>3.9</td>\n",
       "      <td>IBM\\n3.9</td>\n",
       "      <td>Gurgaon</td>\n",
       "      <td>Armonk, NY</td>\n",
       "      <td>10000+ employees</td>\n",
       "      <td>1911</td>\n",
       "      <td>Company - Public</td>\n",
       "      <td>...</td>\n",
       "      <td>109</td>\n",
       "      <td>1</td>\n",
       "      <td>0</td>\n",
       "      <td>0</td>\n",
       "      <td>0</td>\n",
       "      <td>0</td>\n",
       "      <td>data scientist</td>\n",
       "      <td>na</td>\n",
       "      <td>3937</td>\n",
       "      <td>3</td>\n",
       "    </tr>\n",
       "  </tbody>\n",
       "</table>\n",
       "<p>5 rows × 26 columns</p>\n",
       "</div>"
      ],
      "text/plain": [
       "        Job Title    Salary Estimate  \\\n",
       "0   Data Engineer        ₹59K - ₹64K   \n",
       "1  Data Scientist  ₹2,353K - ₹2,511K   \n",
       "2  Data Scientist         ₹1,471,718   \n",
       "3  Data Scientist         ₹1,532,392   \n",
       "4  Data Scientist         ₹1,206,892   \n",
       "\n",
       "                                     Job Description  Rating  \\\n",
       "0  About phData\\n\\nWe build next-generation strat...     2.9   \n",
       "1  Position: Data Scientist\\n\\nLocation: Pune, In...     3.9   \n",
       "2  Date: Jul 9, 2020\\n\\nAs the tech firm that cre...     3.9   \n",
       "3  At Amazon, we strive to be most customer-centr...     4.3   \n",
       "4  Introduction\\n• The role will involve running ...     3.9   \n",
       "\n",
       "              Company Name   Location       Headquarters  \\\n",
       "0              phData\\n2.9  Bengaluru    Minneapolis, MN   \n",
       "1       NICE Actimize\\n3.9       Pune        Hoboken, NJ   \n",
       "2  Ericsson-Worldwide\\n3.9      Noida  Stockholm, Sweden   \n",
       "3              Amazon\\n4.3  Hyderabad        Seattle, WA   \n",
       "4                 IBM\\n3.9    Gurgaon         Armonk, NY   \n",
       "\n",
       "                    Size  Founded               Type of ownership  ...  age  \\\n",
       "0    51 to 200 employees     2014               Company - Private  ...    6   \n",
       "1  501 to 1000 employees     1999  Subsidiary or Business Segment  ...   21   \n",
       "2       10000+ employees     1876                Company - Public  ...  144   \n",
       "3       10000+ employees     1994                Company - Public  ...   26   \n",
       "4       10000+ employees     1911                Company - Public  ...  109   \n",
       "\n",
       "  python_yn R_yn spark  aws  excel        job_simp  seniority  desc_len  \\\n",
       "0         1    0     1    1      1   data engineer         na      3541   \n",
       "1         1    0     0    0      1  data scientist         na      2970   \n",
       "2         1    0     0    0      1  data scientist         na      3856   \n",
       "3         1    0     1    1      1  data scientist         na      4616   \n",
       "4         1    0     0    0      0  data scientist         na      3937   \n",
       "\n",
       "   num_comp  \n",
       "0         0  \n",
       "1         2  \n",
       "2         3  \n",
       "3         3  \n",
       "4         3  \n",
       "\n",
       "[5 rows x 26 columns]"
      ]
     },
     "execution_count": 11,
     "metadata": {},
     "output_type": "execute_result"
    }
   ],
   "source": [
    "df.head()"
   ]
  },
  {
   "cell_type": "code",
   "execution_count": 12,
   "metadata": {},
   "outputs": [],
   "source": [
    "# monthly to annualy\n",
    "df['salary'] = df.apply(lambda x: x.salary*12 if x.Monthly == 1 else x.salary,axis=1)"
   ]
  },
  {
   "cell_type": "code",
   "execution_count": 13,
   "metadata": {},
   "outputs": [
    {
     "data": {
      "text/html": [
       "<div>\n",
       "<style scoped>\n",
       "    .dataframe tbody tr th:only-of-type {\n",
       "        vertical-align: middle;\n",
       "    }\n",
       "\n",
       "    .dataframe tbody tr th {\n",
       "        vertical-align: top;\n",
       "    }\n",
       "\n",
       "    .dataframe thead th {\n",
       "        text-align: right;\n",
       "    }\n",
       "</style>\n",
       "<table border=\"1\" class=\"dataframe\">\n",
       "  <thead>\n",
       "    <tr style=\"text-align: right;\">\n",
       "      <th></th>\n",
       "      <th>Monthly</th>\n",
       "      <th>salary</th>\n",
       "    </tr>\n",
       "  </thead>\n",
       "  <tbody>\n",
       "    <tr>\n",
       "      <th>9</th>\n",
       "      <td>1</td>\n",
       "      <td>299940.0</td>\n",
       "    </tr>\n",
       "    <tr>\n",
       "      <th>64</th>\n",
       "      <td>1</td>\n",
       "      <td>333972.0</td>\n",
       "    </tr>\n",
       "    <tr>\n",
       "      <th>88</th>\n",
       "      <td>1</td>\n",
       "      <td>486972.0</td>\n",
       "    </tr>\n",
       "  </tbody>\n",
       "</table>\n",
       "</div>"
      ],
      "text/plain": [
       "    Monthly    salary\n",
       "9         1  299940.0\n",
       "64        1  333972.0\n",
       "88        1  486972.0"
      ]
     },
     "execution_count": 13,
     "metadata": {},
     "output_type": "execute_result"
    }
   ],
   "source": [
    "df[df['Monthly'] == 1][['Monthly','salary']]"
   ]
  },
  {
   "cell_type": "code",
   "execution_count": 14,
   "metadata": {},
   "outputs": [
    {
     "data": {
      "text/plain": [
       "Index(['Job Title', 'Salary Estimate', 'Job Description', 'Rating',\n",
       "       'Company Name', 'Location', 'Headquarters', 'Size', 'Founded',\n",
       "       'Type of ownership', 'Industry', 'Sector', 'Revenue', 'Competitors',\n",
       "       'Monthly', 'salary', 'age', 'python_yn', 'R_yn', 'spark', 'aws',\n",
       "       'excel', 'job_simp', 'seniority', 'desc_len', 'num_comp'],\n",
       "      dtype='object')"
      ]
     },
     "execution_count": 14,
     "metadata": {},
     "output_type": "execute_result"
    }
   ],
   "source": [
    "df.columns\n"
   ]
  },
  {
   "cell_type": "code",
   "execution_count": 15,
   "metadata": {},
   "outputs": [
    {
     "data": {
      "text/plain": [
       "0      Data Engineer\n",
       "1     Data Scientist\n",
       "2     Data Scientist\n",
       "3     Data Scientist\n",
       "4     Data Scientist\n",
       "           ...      \n",
       "87    Data Scientist\n",
       "88    Data Scientist\n",
       "89    Data Scientist\n",
       "90    Data Scientist\n",
       "91    Data Scientist\n",
       "Name: Company Name, Length: 92, dtype: object"
      ]
     },
     "execution_count": 15,
     "metadata": {},
     "output_type": "execute_result"
    }
   ],
   "source": [
    "df['Company Name'] = df.apply(lambda x: x.replace('\\n',''))\n",
    "df['Company Name']"
   ]
  },
  {
   "cell_type": "code",
   "execution_count": 16,
   "metadata": {},
   "outputs": [
    {
     "data": {
      "text/plain": [
       "<matplotlib.axes._subplots.AxesSubplot at 0xaa81210>"
      ]
     },
     "execution_count": 16,
     "metadata": {},
     "output_type": "execute_result"
    },
    {
     "data": {
      "image/png": "[encoded data removed]",
      "text/plain": [
       "<Figure size 432x288 with 1 Axes>"
      ]
     },
     "metadata": {
      "needs_background": "light"
     },
     "output_type": "display_data"
    }
   ],
   "source": [
    "df.boxplot(column = 'Rating')"
   ]
  },
  {
   "cell_type": "code",
   "execution_count": 17,
   "metadata": {},
   "outputs": [
    {
     "data": {
      "text/plain": [
       "<matplotlib.axes._subplots.AxesSubplot at 0xe362930>"
      ]
     },
     "execution_count": 17,
     "metadata": {},
     "output_type": "execute_result"
    },
    {
     "data": {
      "image/png": "[encoded data removed]",
      "text/plain": [
       "<Figure size 432x288 with 1 Axes>"
      ]
     },
     "metadata": {
      "needs_background": "light"
     },
     "output_type": "display_data"
    }
   ],
   "source": [
    "df.boxplot(column = ['salary'])"
   ]
  },
  {
   "cell_type": "code",
   "execution_count": 18,
   "metadata": {},
   "outputs": [
    {
     "data": {
      "text/plain": [
       "<matplotlib.axes._subplots.AxesSubplot at 0xe3b2130>"
      ]
     },
     "execution_count": 18,
     "metadata": {},
     "output_type": "execute_result"
    },
    {
     "data": {
      "image/png": "[encoded data removed]",
      "text/plain": [
       "<Figure size 432x288 with 1 Axes>"
      ]
     },
     "metadata": {
      "needs_background": "light"
     },
     "output_type": "display_data"
    }
   ],
   "source": [
    "df.boxplot(column = 'age')"
   ]
  },
  {
   "cell_type": "code",
   "execution_count": 19,
   "metadata": {},
   "outputs": [
    {
     "data": {
      "text/html": [
       "<div>\n",
       "<style scoped>\n",
       "    .dataframe tbody tr th:only-of-type {\n",
       "        vertical-align: middle;\n",
       "    }\n",
       "\n",
       "    .dataframe tbody tr th {\n",
       "        vertical-align: top;\n",
       "    }\n",
       "\n",
       "    .dataframe thead th {\n",
       "        text-align: right;\n",
       "    }\n",
       "</style>\n",
       "<table border=\"1\" class=\"dataframe\">\n",
       "  <thead>\n",
       "    <tr style=\"text-align: right;\">\n",
       "      <th></th>\n",
       "      <th>age</th>\n",
       "      <th>salary</th>\n",
       "      <th>Rating</th>\n",
       "      <th>desc_len</th>\n",
       "    </tr>\n",
       "  </thead>\n",
       "  <tbody>\n",
       "    <tr>\n",
       "      <th>age</th>\n",
       "      <td>1.000000</td>\n",
       "      <td>0.106247</td>\n",
       "      <td>-0.001612</td>\n",
       "      <td>0.448363</td>\n",
       "    </tr>\n",
       "    <tr>\n",
       "      <th>salary</th>\n",
       "      <td>0.106247</td>\n",
       "      <td>1.000000</td>\n",
       "      <td>-0.088095</td>\n",
       "      <td>0.095909</td>\n",
       "    </tr>\n",
       "    <tr>\n",
       "      <th>Rating</th>\n",
       "      <td>-0.001612</td>\n",
       "      <td>-0.088095</td>\n",
       "      <td>1.000000</td>\n",
       "      <td>0.033566</td>\n",
       "    </tr>\n",
       "    <tr>\n",
       "      <th>desc_len</th>\n",
       "      <td>0.448363</td>\n",
       "      <td>0.095909</td>\n",
       "      <td>0.033566</td>\n",
       "      <td>1.000000</td>\n",
       "    </tr>\n",
       "  </tbody>\n",
       "</table>\n",
       "</div>"
      ],
      "text/plain": [
       "               age    salary    Rating  desc_len\n",
       "age       1.000000  0.106247 -0.001612  0.448363\n",
       "salary    0.106247  1.000000 -0.088095  0.095909\n",
       "Rating   -0.001612 -0.088095  1.000000  0.033566\n",
       "desc_len  0.448363  0.095909  0.033566  1.000000"
      ]
     },
     "execution_count": 19,
     "metadata": {},
     "output_type": "execute_result"
    }
   ],
   "source": [
    "df[['age','salary','Rating','desc_len']].corr()"
   ]
  },
  {
   "cell_type": "code",
   "execution_count": 20,
   "metadata": {},
   "outputs": [
    {
     "data": {
      "text/plain": [
       "<matplotlib.axes._subplots.AxesSubplot at 0xe3fb3f0>"
      ]
     },
     "execution_count": 20,
     "metadata": {},
     "output_type": "execute_result"
    },
    {
     "data": {
      "image/png": "[encoded data removed]",
      "text/plain": [
       "<Figure size 432x288 with 2 Axes>"
      ]
     },
     "metadata": {
      "needs_background": "light"
     },
     "output_type": "display_data"
    }
   ],
   "source": [
    "sns.heatmap(df[['age','salary','Rating','desc_len','num_comp']].corr(), vmin=0, vmax=1,center=0,cmap=\"YlGnBu\")"
   ]
  },
  {
   "cell_type": "code",
   "execution_count": 21,
   "metadata": {},
   "outputs": [
    {
     "data": {
      "text/plain": [
       "Index(['Job Title', 'Salary Estimate', 'Job Description', 'Rating',\n",
       "       'Company Name', 'Location', 'Headquarters', 'Size', 'Founded',\n",
       "       'Type of ownership', 'Industry', 'Sector', 'Revenue', 'Competitors',\n",
       "       'Monthly', 'salary', 'age', 'python_yn', 'R_yn', 'spark', 'aws',\n",
       "       'excel', 'job_simp', 'seniority', 'desc_len', 'num_comp'],\n",
       "      dtype='object')"
      ]
     },
     "execution_count": 21,
     "metadata": {},
     "output_type": "execute_result"
    }
   ],
   "source": [
    "df.columns"
   ]
  },
  {
   "cell_type": "code",
   "execution_count": 22,
   "metadata": {},
   "outputs": [
    {
     "data": {
      "text/html": [
       "<div>\n",
       "<style scoped>\n",
       "    .dataframe tbody tr th:only-of-type {\n",
       "        vertical-align: middle;\n",
       "    }\n",
       "\n",
       "    .dataframe tbody tr th {\n",
       "        vertical-align: top;\n",
       "    }\n",
       "\n",
       "    .dataframe thead th {\n",
       "        text-align: right;\n",
       "    }\n",
       "</style>\n",
       "<table border=\"1\" class=\"dataframe\">\n",
       "  <thead>\n",
       "    <tr style=\"text-align: right;\">\n",
       "      <th></th>\n",
       "      <th>Location</th>\n",
       "      <th>Headquarters</th>\n",
       "      <th>Size</th>\n",
       "      <th>Type of ownership</th>\n",
       "      <th>Industry</th>\n",
       "      <th>Sector</th>\n",
       "      <th>python_yn</th>\n",
       "      <th>R_yn</th>\n",
       "      <th>spark</th>\n",
       "      <th>aws</th>\n",
       "      <th>excel</th>\n",
       "      <th>job_simp</th>\n",
       "      <th>seniority</th>\n",
       "    </tr>\n",
       "  </thead>\n",
       "  <tbody>\n",
       "    <tr>\n",
       "      <th>0</th>\n",
       "      <td>Bengaluru</td>\n",
       "      <td>Minneapolis, MN</td>\n",
       "      <td>51 to 200 employees</td>\n",
       "      <td>Company - Private</td>\n",
       "      <td>IT Services</td>\n",
       "      <td>Information Technology</td>\n",
       "      <td>1</td>\n",
       "      <td>0</td>\n",
       "      <td>1</td>\n",
       "      <td>1</td>\n",
       "      <td>1</td>\n",
       "      <td>data engineer</td>\n",
       "      <td>na</td>\n",
       "    </tr>\n",
       "    <tr>\n",
       "      <th>1</th>\n",
       "      <td>Pune</td>\n",
       "      <td>Hoboken, NJ</td>\n",
       "      <td>501 to 1000 employees</td>\n",
       "      <td>Subsidiary or Business Segment</td>\n",
       "      <td>Computer Hardware &amp; Software</td>\n",
       "      <td>Information Technology</td>\n",
       "      <td>1</td>\n",
       "      <td>0</td>\n",
       "      <td>0</td>\n",
       "      <td>0</td>\n",
       "      <td>1</td>\n",
       "      <td>data scientist</td>\n",
       "      <td>na</td>\n",
       "    </tr>\n",
       "    <tr>\n",
       "      <th>2</th>\n",
       "      <td>Noida</td>\n",
       "      <td>Stockholm, Sweden</td>\n",
       "      <td>10000+ employees</td>\n",
       "      <td>Company - Public</td>\n",
       "      <td>Telecommunications Services</td>\n",
       "      <td>Telecommunications</td>\n",
       "      <td>1</td>\n",
       "      <td>0</td>\n",
       "      <td>0</td>\n",
       "      <td>0</td>\n",
       "      <td>1</td>\n",
       "      <td>data scientist</td>\n",
       "      <td>na</td>\n",
       "    </tr>\n",
       "    <tr>\n",
       "      <th>3</th>\n",
       "      <td>Hyderabad</td>\n",
       "      <td>Seattle, WA</td>\n",
       "      <td>10000+ employees</td>\n",
       "      <td>Company - Public</td>\n",
       "      <td>Internet</td>\n",
       "      <td>Information Technology</td>\n",
       "      <td>1</td>\n",
       "      <td>0</td>\n",
       "      <td>1</td>\n",
       "      <td>1</td>\n",
       "      <td>1</td>\n",
       "      <td>data scientist</td>\n",
       "      <td>na</td>\n",
       "    </tr>\n",
       "    <tr>\n",
       "      <th>4</th>\n",
       "      <td>Gurgaon</td>\n",
       "      <td>Armonk, NY</td>\n",
       "      <td>10000+ employees</td>\n",
       "      <td>Company - Public</td>\n",
       "      <td>IT Services</td>\n",
       "      <td>Information Technology</td>\n",
       "      <td>1</td>\n",
       "      <td>0</td>\n",
       "      <td>0</td>\n",
       "      <td>0</td>\n",
       "      <td>0</td>\n",
       "      <td>data scientist</td>\n",
       "      <td>na</td>\n",
       "    </tr>\n",
       "    <tr>\n",
       "      <th>...</th>\n",
       "      <td>...</td>\n",
       "      <td>...</td>\n",
       "      <td>...</td>\n",
       "      <td>...</td>\n",
       "      <td>...</td>\n",
       "      <td>...</td>\n",
       "      <td>...</td>\n",
       "      <td>...</td>\n",
       "      <td>...</td>\n",
       "      <td>...</td>\n",
       "      <td>...</td>\n",
       "      <td>...</td>\n",
       "      <td>...</td>\n",
       "    </tr>\n",
       "    <tr>\n",
       "      <th>87</th>\n",
       "      <td>Bengaluru</td>\n",
       "      <td>Tokyo, Japan</td>\n",
       "      <td>10000+ employees</td>\n",
       "      <td>Company - Public</td>\n",
       "      <td>IT Services</td>\n",
       "      <td>Information Technology</td>\n",
       "      <td>1</td>\n",
       "      <td>0</td>\n",
       "      <td>1</td>\n",
       "      <td>1</td>\n",
       "      <td>1</td>\n",
       "      <td>data scientist</td>\n",
       "      <td>na</td>\n",
       "    </tr>\n",
       "    <tr>\n",
       "      <th>88</th>\n",
       "      <td>Bengaluru</td>\n",
       "      <td>Bengaluru, India</td>\n",
       "      <td>501 to 1000 employees</td>\n",
       "      <td>Company - Private</td>\n",
       "      <td>Department, Clothing, &amp; Shoe Shops</td>\n",
       "      <td>Retail</td>\n",
       "      <td>1</td>\n",
       "      <td>0</td>\n",
       "      <td>1</td>\n",
       "      <td>0</td>\n",
       "      <td>0</td>\n",
       "      <td>data scientist</td>\n",
       "      <td>na</td>\n",
       "    </tr>\n",
       "    <tr>\n",
       "      <th>89</th>\n",
       "      <td>Bengaluru</td>\n",
       "      <td>Bengaluru, India</td>\n",
       "      <td>1001 to 5000 employees</td>\n",
       "      <td>Company - Private</td>\n",
       "      <td>IT Services</td>\n",
       "      <td>Information Technology</td>\n",
       "      <td>1</td>\n",
       "      <td>0</td>\n",
       "      <td>0</td>\n",
       "      <td>0</td>\n",
       "      <td>0</td>\n",
       "      <td>data scientist</td>\n",
       "      <td>na</td>\n",
       "    </tr>\n",
       "    <tr>\n",
       "      <th>90</th>\n",
       "      <td>Bengaluru</td>\n",
       "      <td>Menlo Park, CA</td>\n",
       "      <td>1 to 50 employees</td>\n",
       "      <td>Company - Private</td>\n",
       "      <td>Enterprise Software &amp; Network Solutions</td>\n",
       "      <td>Information Technology</td>\n",
       "      <td>1</td>\n",
       "      <td>0</td>\n",
       "      <td>0</td>\n",
       "      <td>0</td>\n",
       "      <td>1</td>\n",
       "      <td>data scientist</td>\n",
       "      <td>na</td>\n",
       "    </tr>\n",
       "    <tr>\n",
       "      <th>91</th>\n",
       "      <td>Pune</td>\n",
       "      <td>Palo Alto, CA</td>\n",
       "      <td>1 to 50 employees</td>\n",
       "      <td>Company - Private</td>\n",
       "      <td>Enterprise Software &amp; Network Solutions</td>\n",
       "      <td>Information Technology</td>\n",
       "      <td>1</td>\n",
       "      <td>0</td>\n",
       "      <td>0</td>\n",
       "      <td>1</td>\n",
       "      <td>1</td>\n",
       "      <td>data scientist</td>\n",
       "      <td>na</td>\n",
       "    </tr>\n",
       "  </tbody>\n",
       "</table>\n",
       "<p>92 rows × 13 columns</p>\n",
       "</div>"
      ],
      "text/plain": [
       "     Location       Headquarters                    Size  \\\n",
       "0   Bengaluru    Minneapolis, MN     51 to 200 employees   \n",
       "1        Pune        Hoboken, NJ   501 to 1000 employees   \n",
       "2       Noida  Stockholm, Sweden        10000+ employees   \n",
       "3   Hyderabad        Seattle, WA        10000+ employees   \n",
       "4     Gurgaon         Armonk, NY        10000+ employees   \n",
       "..        ...                ...                     ...   \n",
       "87  Bengaluru       Tokyo, Japan        10000+ employees   \n",
       "88  Bengaluru   Bengaluru, India   501 to 1000 employees   \n",
       "89  Bengaluru   Bengaluru, India  1001 to 5000 employees   \n",
       "90  Bengaluru     Menlo Park, CA       1 to 50 employees   \n",
       "91       Pune      Palo Alto, CA       1 to 50 employees   \n",
       "\n",
       "                 Type of ownership                                 Industry  \\\n",
       "0                Company - Private                              IT Services   \n",
       "1   Subsidiary or Business Segment             Computer Hardware & Software   \n",
       "2                 Company - Public              Telecommunications Services   \n",
       "3                 Company - Public                                 Internet   \n",
       "4                 Company - Public                              IT Services   \n",
       "..                             ...                                      ...   \n",
       "87                Company - Public                              IT Services   \n",
       "88               Company - Private       Department, Clothing, & Shoe Shops   \n",
       "89               Company - Private                              IT Services   \n",
       "90               Company - Private  Enterprise Software & Network Solutions   \n",
       "91               Company - Private  Enterprise Software & Network Solutions   \n",
       "\n",
       "                    Sector  python_yn  R_yn  spark  aws  excel  \\\n",
       "0   Information Technology          1     0      1    1      1   \n",
       "1   Information Technology          1     0      0    0      1   \n",
       "2       Telecommunications          1     0      0    0      1   \n",
       "3   Information Technology          1     0      1    1      1   \n",
       "4   Information Technology          1     0      0    0      0   \n",
       "..                     ...        ...   ...    ...  ...    ...   \n",
       "87  Information Technology          1     0      1    1      1   \n",
       "88                  Retail          1     0      1    0      0   \n",
       "89  Information Technology          1     0      0    0      0   \n",
       "90  Information Technology          1     0      0    0      1   \n",
       "91  Information Technology          1     0      0    1      1   \n",
       "\n",
       "          job_simp seniority  \n",
       "0    data engineer        na  \n",
       "1   data scientist        na  \n",
       "2   data scientist        na  \n",
       "3   data scientist        na  \n",
       "4   data scientist        na  \n",
       "..             ...       ...  \n",
       "87  data scientist        na  \n",
       "88  data scientist        na  \n",
       "89  data scientist        na  \n",
       "90  data scientist        na  \n",
       "91  data scientist        na  \n",
       "\n",
       "[92 rows x 13 columns]"
      ]
     },
     "execution_count": 22,
     "metadata": {},
     "output_type": "execute_result"
    }
   ],
   "source": [
    "df_cat =df[['Location', 'Headquarters', 'Size','Type of ownership', 'Industry', 'Sector','python_yn', 'R_yn', 'spark', 'aws',\n",
    "       'excel', 'job_simp', 'seniority']]\n",
    "df_cat"
   ]
  },
  {
   "cell_type": "code",
   "execution_count": 23,
   "metadata": {},
   "outputs": [
    {
     "data": {
      "text/plain": [
       "[Text(0, 0, 'Bengaluru'),\n",
       " Text(0, 0, 'Pune'),\n",
       " Text(0, 0, 'Hyderabad'),\n",
       " Text(0, 0, 'Mumbai'),\n",
       " Text(0, 0, 'Chennai'),\n",
       " Text(0, 0, 'Gurgaon'),\n",
       " Text(0, 0, 'Noida'),\n",
       " Text(0, 0, 'India'),\n",
       " Text(0, 0, 'Indore'),\n",
       " Text(0, 0, 'Chandigarh'),\n",
       " Text(0, 0, 'New Delhi'),\n",
       " Text(0, 0, 'Kozhikode'),\n",
       " Text(0, 0, 'Andheri'),\n",
       " Text(0, 0, 'Vikhroli')]"
      ]
     },
     "execution_count": 23,
     "metadata": {},
     "output_type": "execute_result"
    },
    {
     "data": {
      "image/png": "[encoded data removed]",
      "text/plain": [
       "<Figure size 432x288 with 1 Axes>"
      ]
     },
     "metadata": {
      "needs_background": "light"
     },
     "output_type": "display_data"
    }
   ],
   "source": [
    "cat_nm = df_cat['Location'].value_counts()\n",
    "chart = sns.barplot(x=cat_nm.index,y=cat_nm)\n",
    "chart.set_xticklabels(chart.get_xticklabels(), rotation=90)\n",
    "    \n",
    "    "
   ]
  },
  {
   "cell_type": "code",
   "execution_count": 24,
   "metadata": {},
   "outputs": [
    {
     "data": {
      "text/plain": [
       "[Text(0, 0, 'Bengaluru, India'),\n",
       " Text(0, 0, 'Mumbai, India'),\n",
       " Text(0, 0, 'Pune, India'),\n",
       " Text(0, 0, 'San Jose, CA'),\n",
       " Text(0, 0, 'Noida, India'),\n",
       " Text(0, 0, 'Boston, MA'),\n",
       " Text(0, 0, 'Seattle, WA'),\n",
       " Text(0, 0, 'Stockholm, Sweden'),\n",
       " Text(0, 0, 'London, United Kingdom'),\n",
       " Text(0, 0, 'New York, NY'),\n",
       " Text(0, 0, 'Hyderabad, India'),\n",
       " Text(0, 0, 'Chandigarh, India'),\n",
       " Text(0, 0, 'Dallas, TX'),\n",
       " Text(0, 0, 'New Delhi, India'),\n",
       " Text(0, 0, 'Mountain View, CA'),\n",
       " Text(0, 0, 'Zurich, Switzerland'),\n",
       " Text(0, 0, 'Palo Alto, CA'),\n",
       " Text(0, 0, 'Overland Park, KS'),\n",
       " Text(0, 0, 'Saint Louis, MO'),\n",
       " Text(0, 0, 'Hoofddorp, Netherlands'),\n",
       " Text(0, 0, 'Chakan, India'),\n",
       " Text(0, 0, 'Hanover, MD'),\n",
       " Text(0, 0, 'Monument, CO'),\n",
       " Text(0, 0, 'Walnut, CA'),\n",
       " Text(0, 0, 'San Diego, CA'),\n",
       " Text(0, 0, 'Espoo, Finland'),\n",
       " Text(0, 0, 'Menlo Park, CA'),\n",
       " Text(0, 0, 'Minneapolis, MN'),\n",
       " Text(0, 0, 'Buffalo Grove, IL'),\n",
       " Text(0, 0, 'San Francisco, CA'),\n",
       " Text(0, 0, 'Tokyo, Japan'),\n",
       " Text(0, 0, 'Zug, Switzerland'),\n",
       " Text(0, 0, 'Parsippany, NJ'),\n",
       " Text(0, 0, 'Gurgaon, India'),\n",
       " Text(0, 0, 'Somerset, NJ'),\n",
       " Text(0, 0, 'New Delhi , India'),\n",
       " Text(0, 0, 'Santa Clara, CA'),\n",
       " Text(0, 0, 'Hoboken, NJ'),\n",
       " Text(0, 0, 'Portland, OR'),\n",
       " Text(0, 0, 'Minnetonka, MN'),\n",
       " Text(0, 0, 'Englewood, CO'),\n",
       " Text(0, 0, 'Fullerton, CA'),\n",
       " Text(0, 0, 'Armonk, NY'),\n",
       " Text(0, 0, 'Houston, TX'),\n",
       " Text(0, 0, 'Memphis, TN'),\n",
       " Text(0, 0, 'Dublin, Ireland'),\n",
       " Text(0, 0, 'Aberdeen, United Kingdom'),\n",
       " Text(0, 0, 'Bethesda, MD'),\n",
       " Text(0, 0, 'Hitchin, United Kingdom')]"
      ]
     },
     "execution_count": 24,
     "metadata": {},
     "output_type": "execute_result"
    },
    {
     "data": {
      "image/png": "[encoded data removed]",
      "text/plain": [
       "<Figure size 432x288 with 1 Axes>"
      ]
     },
     "metadata": {
      "needs_background": "light"
     },
     "output_type": "display_data"
    }
   ],
   "source": [
    "cat_nm = df_cat['Headquarters'].value_counts()\n",
    "chart = sns.barplot(x=cat_nm.index,y=cat_nm)\n",
    "chart.set_xticklabels(chart.get_xticklabels(), rotation=90)"
   ]
  },
  {
   "cell_type": "code",
   "execution_count": 25,
   "metadata": {},
   "outputs": [
    {
     "data": {
      "text/plain": [
       "[Text(0, 0, '10000+ employees'),\n",
       " Text(0, 0, '1 to 50 employees'),\n",
       " Text(0, 0, '201 to 500 employees'),\n",
       " Text(0, 0, '51 to 200 employees'),\n",
       " Text(0, 0, '1001 to 5000 employees'),\n",
       " Text(0, 0, '501 to 1000 employees'),\n",
       " Text(0, 0, '5001 to 10000 employees'),\n",
       " Text(0, 0, 'Unknown')]"
      ]
     },
     "execution_count": 25,
     "metadata": {},
     "output_type": "execute_result"
    },
    {
     "data": {
      "image/png": "[encoded data removed]",
      "text/plain": [
       "<Figure size 432x288 with 1 Axes>"
      ]
     },
     "metadata": {
      "needs_background": "light"
     },
     "output_type": "display_data"
    }
   ],
   "source": [
    "cat_nm = df_cat['Size'].value_counts()\n",
    "chart = sns.barplot(x=cat_nm.index,y=cat_nm)\n",
    "chart.set_xticklabels(chart.get_xticklabels(), rotation=90)"
   ]
  },
  {
   "cell_type": "code",
   "execution_count": 26,
   "metadata": {},
   "outputs": [
    {
     "data": {
      "text/plain": [
       "[Text(0, 0, '0'), Text(0, 0, '1')]"
      ]
     },
     "execution_count": 26,
     "metadata": {},
     "output_type": "execute_result"
    },
    {
     "data": {
      "image/png": "[encoded data removed]",
      "text/plain": [
       "<Figure size 432x288 with 1 Axes>"
      ]
     },
     "metadata": {
      "needs_background": "light"
     },
     "output_type": "display_data"
    }
   ],
   "source": [
    "cat_nm = df_cat['python_yn'].value_counts()\n",
    "chart = sns.barplot(x=cat_nm.index,y=cat_nm)\n",
    "chart.set_xticklabels(chart.get_xticklabels(), rotation=90)"
   ]
  },
  {
   "cell_type": "code",
   "execution_count": 27,
   "metadata": {},
   "outputs": [
    {
     "data": {
      "text/plain": [
       "[Text(0, 0, '0')]"
      ]
     },
     "execution_count": 27,
     "metadata": {},
     "output_type": "execute_result"
    },
    {
     "data": {
      "image/png": "[encoded data removed]",
      "text/plain": [
       "<Figure size 432x288 with 1 Axes>"
      ]
     },
     "metadata": {
      "needs_background": "light"
     },
     "output_type": "display_data"
    }
   ],
   "source": [
    "cat_nm = df_cat['R_yn'].value_counts()\n",
    "chart = sns.barplot(x=cat_nm.index,y=cat_nm)\n",
    "chart.set_xticklabels(chart.get_xticklabels(), rotation=90)"
   ]
  },
  {
   "cell_type": "code",
   "execution_count": 28,
   "metadata": {},
   "outputs": [
    {
     "data": {
      "text/plain": [
       "[Text(0, 0, '0'), Text(0, 0, '1')]"
      ]
     },
     "execution_count": 28,
     "metadata": {},
     "output_type": "execute_result"
    },
    {
     "data": {
      "image/png": "[encoded data removed]",
      "text/plain": [
       "<Figure size 432x288 with 1 Axes>"
      ]
     },
     "metadata": {
      "needs_background": "light"
     },
     "output_type": "display_data"
    }
   ],
   "source": [
    "cat_nm = df_cat['aws'].value_counts()\n",
    "chart = sns.barplot(x=cat_nm.index,y=cat_nm)\n",
    "chart.set_xticklabels(chart.get_xticklabels(), rotation=90)"
   ]
  },
  {
   "cell_type": "code",
   "execution_count": 29,
   "metadata": {},
   "outputs": [
    {
     "data": {
      "text/plain": [
       "[Text(0, 0, '0'), Text(0, 0, '1')]"
      ]
     },
     "execution_count": 29,
     "metadata": {},
     "output_type": "execute_result"
    },
    {
     "data": {
      "image/png": "[encoded data removed]",
      "text/plain": [
       "<Figure size 432x288 with 1 Axes>"
      ]
     },
     "metadata": {
      "needs_background": "light"
     },
     "output_type": "display_data"
    }
   ],
   "source": [
    "cat_nm = df_cat['excel'].value_counts()\n",
    "chart = sns.barplot(x=cat_nm.index,y=cat_nm)\n",
    "chart.set_xticklabels(chart.get_xticklabels(), rotation=90)"
   ]
  },
  {
   "cell_type": "code",
   "execution_count": 30,
   "metadata": {},
   "outputs": [
    {
     "data": {
      "text/plain": [
       "[Text(0, 0, 'data scientist'),\n",
       " Text(0, 0, 'analyst'),\n",
       " Text(0, 0, 'na'),\n",
       " Text(0, 0, 'data engineer'),\n",
       " Text(0, 0, 'mle')]"
      ]
     },
     "execution_count": 30,
     "metadata": {},
     "output_type": "execute_result"
    },
    {
     "data": {
      "image/png": "[encoded data removed]",
      "text/plain": [
       "<Figure size 432x288 with 1 Axes>"
      ]
     },
     "metadata": {
      "needs_background": "light"
     },
     "output_type": "display_data"
    }
   ],
   "source": [
    "cat_nm = df_cat['job_simp'].value_counts()\n",
    "chart = sns.barplot(x=cat_nm.index,y=cat_nm)\n",
    "chart.set_xticklabels(chart.get_xticklabels(), rotation=90)"
   ]
  },
  {
   "cell_type": "code",
   "execution_count": 31,
   "metadata": {},
   "outputs": [
    {
     "data": {
      "text/plain": [
       "[Text(0, 0, 'na'), Text(0, 0, 'senior')]"
      ]
     },
     "execution_count": 31,
     "metadata": {},
     "output_type": "execute_result"
    },
    {
     "data": {
      "image/png": "[encoded data removed]",
      "text/plain": [
       "<Figure size 432x288 with 1 Axes>"
      ]
     },
     "metadata": {
      "needs_background": "light"
     },
     "output_type": "display_data"
    }
   ],
   "source": [
    "cat_nm = df_cat['seniority'].value_counts()\n",
    "chart = sns.barplot(x=cat_nm.index,y=cat_nm)\n",
    "chart.set_xticklabels(chart.get_xticklabels(), rotation=90)"
   ]
  },
  {
   "cell_type": "code",
   "execution_count": 32,
   "metadata": {},
   "outputs": [
    {
     "data": {
      "text/html": [
       "<div>\n",
       "<style scoped>\n",
       "    .dataframe tbody tr th:only-of-type {\n",
       "        vertical-align: middle;\n",
       "    }\n",
       "\n",
       "    .dataframe tbody tr th {\n",
       "        vertical-align: top;\n",
       "    }\n",
       "\n",
       "    .dataframe thead th {\n",
       "        text-align: right;\n",
       "    }\n",
       "</style>\n",
       "<table border=\"1\" class=\"dataframe\">\n",
       "  <thead>\n",
       "    <tr style=\"text-align: right;\">\n",
       "      <th></th>\n",
       "      <th></th>\n",
       "      <th>salary</th>\n",
       "    </tr>\n",
       "    <tr>\n",
       "      <th>job_simp</th>\n",
       "      <th>seniority</th>\n",
       "      <th></th>\n",
       "    </tr>\n",
       "  </thead>\n",
       "  <tbody>\n",
       "    <tr>\n",
       "      <th>analyst</th>\n",
       "      <th>na</th>\n",
       "      <td>6.290000e+02</td>\n",
       "    </tr>\n",
       "    <tr>\n",
       "      <th>data engineer</th>\n",
       "      <th>na</th>\n",
       "      <td>5.900000e+01</td>\n",
       "    </tr>\n",
       "    <tr>\n",
       "      <th rowspan=\"2\" valign=\"top\">data scientist</th>\n",
       "      <th>na</th>\n",
       "      <td>4.922526e+05</td>\n",
       "    </tr>\n",
       "    <tr>\n",
       "      <th>senior</th>\n",
       "      <td>1.506264e+06</td>\n",
       "    </tr>\n",
       "    <tr>\n",
       "      <th>mle</th>\n",
       "      <th>na</th>\n",
       "      <td>2.090000e+02</td>\n",
       "    </tr>\n",
       "    <tr>\n",
       "      <th>na</th>\n",
       "      <th>na</th>\n",
       "      <td>6.190255e+05</td>\n",
       "    </tr>\n",
       "  </tbody>\n",
       "</table>\n",
       "</div>"
      ],
      "text/plain": [
       "                                salary\n",
       "job_simp       seniority              \n",
       "analyst        na         6.290000e+02\n",
       "data engineer  na         5.900000e+01\n",
       "data scientist na         4.922526e+05\n",
       "               senior     1.506264e+06\n",
       "mle            na         2.090000e+02\n",
       "na             na         6.190255e+05"
      ]
     },
     "execution_count": 32,
     "metadata": {},
     "output_type": "execute_result"
    }
   ],
   "source": [
    "pd.pivot_table(df,index=['job_simp','seniority'],values='salary')"
   ]
  },
  {
   "cell_type": "code",
   "execution_count": 33,
   "metadata": {},
   "outputs": [
    {
     "data": {
      "text/html": [
       "<div>\n",
       "<style scoped>\n",
       "    .dataframe tbody tr th:only-of-type {\n",
       "        vertical-align: middle;\n",
       "    }\n",
       "\n",
       "    .dataframe tbody tr th {\n",
       "        vertical-align: top;\n",
       "    }\n",
       "\n",
       "    .dataframe thead th {\n",
       "        text-align: right;\n",
       "    }\n",
       "</style>\n",
       "<table border=\"1\" class=\"dataframe\">\n",
       "  <thead>\n",
       "    <tr style=\"text-align: right;\">\n",
       "      <th></th>\n",
       "      <th></th>\n",
       "      <th>salary</th>\n",
       "    </tr>\n",
       "    <tr>\n",
       "      <th>Location</th>\n",
       "      <th>job_simp</th>\n",
       "      <th></th>\n",
       "    </tr>\n",
       "  </thead>\n",
       "  <tbody>\n",
       "    <tr>\n",
       "      <th>New Delhi</th>\n",
       "      <th>data scientist</th>\n",
       "      <td>1.595640e+06</td>\n",
       "    </tr>\n",
       "    <tr>\n",
       "      <th>Noida</th>\n",
       "      <th>data scientist</th>\n",
       "      <td>9.790285e+05</td>\n",
       "    </tr>\n",
       "    <tr>\n",
       "      <th>Vikhroli</th>\n",
       "      <th>data scientist</th>\n",
       "      <td>7.757110e+05</td>\n",
       "    </tr>\n",
       "    <tr>\n",
       "      <th rowspan=\"2\" valign=\"top\">Bengaluru</th>\n",
       "      <th>data scientist</th>\n",
       "      <td>7.097082e+05</td>\n",
       "    </tr>\n",
       "    <tr>\n",
       "      <th>na</th>\n",
       "      <td>6.914710e+05</td>\n",
       "    </tr>\n",
       "    <tr>\n",
       "      <th>Gurgaon</th>\n",
       "      <th>data scientist</th>\n",
       "      <td>6.719202e+05</td>\n",
       "    </tr>\n",
       "    <tr>\n",
       "      <th>Mumbai</th>\n",
       "      <th>na</th>\n",
       "      <td>5.465800e+05</td>\n",
       "    </tr>\n",
       "    <tr>\n",
       "      <th>Hyderabad</th>\n",
       "      <th>data scientist</th>\n",
       "      <td>4.750889e+05</td>\n",
       "    </tr>\n",
       "    <tr>\n",
       "      <th>Pune</th>\n",
       "      <th>data scientist</th>\n",
       "      <td>4.234859e+05</td>\n",
       "    </tr>\n",
       "    <tr>\n",
       "      <th>Mumbai</th>\n",
       "      <th>data scientist</th>\n",
       "      <td>2.808700e+05</td>\n",
       "    </tr>\n",
       "    <tr>\n",
       "      <th>Chennai</th>\n",
       "      <th>data scientist</th>\n",
       "      <td>1.173557e+05</td>\n",
       "    </tr>\n",
       "    <tr>\n",
       "      <th>Hyderabad</th>\n",
       "      <th>analyst</th>\n",
       "      <td>1.083000e+03</td>\n",
       "    </tr>\n",
       "    <tr>\n",
       "      <th>India</th>\n",
       "      <th>data scientist</th>\n",
       "      <td>5.863333e+02</td>\n",
       "    </tr>\n",
       "    <tr>\n",
       "      <th>Bengaluru</th>\n",
       "      <th>analyst</th>\n",
       "      <td>4.020000e+02</td>\n",
       "    </tr>\n",
       "    <tr>\n",
       "      <th>Kozhikode</th>\n",
       "      <th>data scientist</th>\n",
       "      <td>2.860000e+02</td>\n",
       "    </tr>\n",
       "    <tr>\n",
       "      <th>Mumbai</th>\n",
       "      <th>mle</th>\n",
       "      <td>2.090000e+02</td>\n",
       "    </tr>\n",
       "    <tr>\n",
       "      <th>Bengaluru</th>\n",
       "      <th>data engineer</th>\n",
       "      <td>5.900000e+01</td>\n",
       "    </tr>\n",
       "    <tr>\n",
       "      <th>Chandigarh</th>\n",
       "      <th>data scientist</th>\n",
       "      <td>3.150000e+01</td>\n",
       "    </tr>\n",
       "    <tr>\n",
       "      <th>Andheri</th>\n",
       "      <th>data scientist</th>\n",
       "      <td>1.900000e+01</td>\n",
       "    </tr>\n",
       "    <tr>\n",
       "      <th>Indore</th>\n",
       "      <th>data scientist</th>\n",
       "      <td>1.750000e+01</td>\n",
       "    </tr>\n",
       "  </tbody>\n",
       "</table>\n",
       "</div>"
      ],
      "text/plain": [
       "                                 salary\n",
       "Location   job_simp                    \n",
       "New Delhi  data scientist  1.595640e+06\n",
       "Noida      data scientist  9.790285e+05\n",
       "Vikhroli   data scientist  7.757110e+05\n",
       "Bengaluru  data scientist  7.097082e+05\n",
       "           na              6.914710e+05\n",
       "Gurgaon    data scientist  6.719202e+05\n",
       "Mumbai     na              5.465800e+05\n",
       "Hyderabad  data scientist  4.750889e+05\n",
       "Pune       data scientist  4.234859e+05\n",
       "Mumbai     data scientist  2.808700e+05\n",
       "Chennai    data scientist  1.173557e+05\n",
       "Hyderabad  analyst         1.083000e+03\n",
       "India      data scientist  5.863333e+02\n",
       "Bengaluru  analyst         4.020000e+02\n",
       "Kozhikode  data scientist  2.860000e+02\n",
       "Mumbai     mle             2.090000e+02\n",
       "Bengaluru  data engineer   5.900000e+01\n",
       "Chandigarh data scientist  3.150000e+01\n",
       "Andheri    data scientist  1.900000e+01\n",
       "Indore     data scientist  1.750000e+01"
      ]
     },
     "execution_count": 33,
     "metadata": {},
     "output_type": "execute_result"
    }
   ],
   "source": [
    "pd.pivot_table(df,index=['Location','job_simp'],values='salary').sort_values('salary',ascending=False)"
   ]
  },
  {
   "cell_type": "code",
   "execution_count": 35,
   "metadata": {},
   "outputs": [
    {
     "data": {
      "text/html": [
       "<div>\n",
       "<style scoped>\n",
       "    .dataframe tbody tr th:only-of-type {\n",
       "        vertical-align: middle;\n",
       "    }\n",
       "\n",
       "    .dataframe tbody tr th {\n",
       "        vertical-align: top;\n",
       "    }\n",
       "\n",
       "    .dataframe thead th {\n",
       "        text-align: right;\n",
       "    }\n",
       "</style>\n",
       "<table border=\"1\" class=\"dataframe\">\n",
       "  <thead>\n",
       "    <tr style=\"text-align: right;\">\n",
       "      <th></th>\n",
       "      <th></th>\n",
       "      <th>salary</th>\n",
       "    </tr>\n",
       "    <tr>\n",
       "      <th>Location</th>\n",
       "      <th>job_simp</th>\n",
       "      <th></th>\n",
       "    </tr>\n",
       "  </thead>\n",
       "  <tbody>\n",
       "    <tr>\n",
       "      <th>Vikhroli</th>\n",
       "      <th>data scientist</th>\n",
       "      <td>1</td>\n",
       "    </tr>\n",
       "    <tr>\n",
       "      <th>Pune</th>\n",
       "      <th>data scientist</th>\n",
       "      <td>11</td>\n",
       "    </tr>\n",
       "    <tr>\n",
       "      <th>Noida</th>\n",
       "      <th>data scientist</th>\n",
       "      <td>4</td>\n",
       "    </tr>\n",
       "    <tr>\n",
       "      <th>New Delhi</th>\n",
       "      <th>data scientist</th>\n",
       "      <td>2</td>\n",
       "    </tr>\n",
       "    <tr>\n",
       "      <th rowspan=\"3\" valign=\"top\">Mumbai</th>\n",
       "      <th>na</th>\n",
       "      <td>1</td>\n",
       "    </tr>\n",
       "    <tr>\n",
       "      <th>mle</th>\n",
       "      <td>1</td>\n",
       "    </tr>\n",
       "    <tr>\n",
       "      <th>data scientist</th>\n",
       "      <td>6</td>\n",
       "    </tr>\n",
       "    <tr>\n",
       "      <th>Kozhikode</th>\n",
       "      <th>data scientist</th>\n",
       "      <td>1</td>\n",
       "    </tr>\n",
       "    <tr>\n",
       "      <th>Indore</th>\n",
       "      <th>data scientist</th>\n",
       "      <td>2</td>\n",
       "    </tr>\n",
       "    <tr>\n",
       "      <th>India</th>\n",
       "      <th>data scientist</th>\n",
       "      <td>3</td>\n",
       "    </tr>\n",
       "    <tr>\n",
       "      <th rowspan=\"2\" valign=\"top\">Hyderabad</th>\n",
       "      <th>data scientist</th>\n",
       "      <td>8</td>\n",
       "    </tr>\n",
       "    <tr>\n",
       "      <th>analyst</th>\n",
       "      <td>1</td>\n",
       "    </tr>\n",
       "    <tr>\n",
       "      <th>Gurgaon</th>\n",
       "      <th>data scientist</th>\n",
       "      <td>6</td>\n",
       "    </tr>\n",
       "    <tr>\n",
       "      <th>Chennai</th>\n",
       "      <th>data scientist</th>\n",
       "      <td>7</td>\n",
       "    </tr>\n",
       "    <tr>\n",
       "      <th>Chandigarh</th>\n",
       "      <th>data scientist</th>\n",
       "      <td>2</td>\n",
       "    </tr>\n",
       "    <tr>\n",
       "      <th rowspan=\"4\" valign=\"top\">Bengaluru</th>\n",
       "      <th>analyst</th>\n",
       "      <td>2</td>\n",
       "    </tr>\n",
       "    <tr>\n",
       "      <th>na</th>\n",
       "      <td>1</td>\n",
       "    </tr>\n",
       "    <tr>\n",
       "      <th>data scientist</th>\n",
       "      <td>31</td>\n",
       "    </tr>\n",
       "    <tr>\n",
       "      <th>data engineer</th>\n",
       "      <td>1</td>\n",
       "    </tr>\n",
       "    <tr>\n",
       "      <th>Andheri</th>\n",
       "      <th>data scientist</th>\n",
       "      <td>1</td>\n",
       "    </tr>\n",
       "  </tbody>\n",
       "</table>\n",
       "</div>"
      ],
      "text/plain": [
       "                           salary\n",
       "Location   job_simp              \n",
       "Vikhroli   data scientist       1\n",
       "Pune       data scientist      11\n",
       "Noida      data scientist       4\n",
       "New Delhi  data scientist       2\n",
       "Mumbai     na                   1\n",
       "           mle                  1\n",
       "           data scientist       6\n",
       "Kozhikode  data scientist       1\n",
       "Indore     data scientist       2\n",
       "India      data scientist       3\n",
       "Hyderabad  data scientist       8\n",
       "           analyst              1\n",
       "Gurgaon    data scientist       6\n",
       "Chennai    data scientist       7\n",
       "Chandigarh data scientist       2\n",
       "Bengaluru  analyst              2\n",
       "           na                   1\n",
       "           data scientist      31\n",
       "           data engineer        1\n",
       "Andheri    data scientist       1"
      ]
     },
     "execution_count": 35,
     "metadata": {},
     "output_type": "execute_result"
    }
   ],
   "source": [
    "pd.pivot_table(df,index=['Location','job_simp'],values='salary',aggfunc='count').sort_values('Location',ascending=False)"
   ]
  },
  {
   "cell_type": "code",
   "execution_count": 38,
   "metadata": {},
   "outputs": [],
   "source": [
    "df_pivots = df[['Rating', 'Industry', 'Sector', 'Revenue', 'num_comp', 'python_yn', 'R_yn', 'spark', 'aws', 'excel', 'Type of ownership','salary']]"
   ]
  },
  {
   "cell_type": "code",
   "execution_count": 47,
   "metadata": {},
   "outputs": [
    {
     "name": "stdout",
     "output_type": "stream",
     "text": [
      "Rating\n",
      "              salary\n",
      "Rating              \n",
      "3.3     2.681370e+06\n",
      "3.0     1.260954e+06\n",
      "4.3     1.240282e+06\n",
      "4.1     8.558828e+05\n",
      "3.4     6.200467e+05\n",
      "3.1     5.136877e+05\n",
      "4.0     4.982410e+05\n",
      "3.8     4.759882e+05\n",
      "3.6     4.167486e+05\n",
      "4.5     4.062410e+05\n",
      "3.2     4.050185e+05\n",
      "3.9     3.962605e+05\n",
      "3.5     3.525656e+05\n",
      "2.9     3.342163e+05\n",
      "3.7     2.160193e+05\n",
      "4.2     6.736500e+04\n",
      "4.6     3.980000e+02\n",
      "1.0     3.510000e+02\n",
      "4.8     3.150000e+01\n",
      "4.9     3.000000e+01\n",
      "4.7     1.500000e+01\n",
      "Industry\n",
      "                                               salary\n",
      "Industry                                             \n",
      "TV Broadcasting & Cable Networks         3.084051e+06\n",
      "Insurance Agencies & Brokerages          2.425730e+06\n",
      "Telecommunications Manufacturing         1.668996e+06\n",
      "Healthcare Services & Hospitals          1.095602e+06\n",
      "Consulting                               1.071610e+06\n",
      "Cable, Internet & Telephone Providers    1.034642e+06\n",
      "Lending                                  8.123230e+05\n",
      "Internet                                 8.107334e+05\n",
      "Telecommunications Services              7.374010e+05\n",
      "Education Training Services              6.914710e+05\n",
      "Ticket Sales                             6.466510e+05\n",
      "Industrial Manufacturing                 6.274960e+05\n",
      "Department, Clothing, & Shoe Shops       4.869720e+05\n",
      "Enterprise Software & Network Solutions  4.097256e+05\n",
      "Architectural & Engineering Services     3.888360e+05\n",
      "IT Services                              3.698615e+05\n",
      "-1                                       3.137506e+05\n",
      "Staffing & Outsourcing                   2.301920e+05\n",
      "Computer Hardware & Software             6.825000e+04\n",
      "Oil & Gas Exploration & Production       4.089000e+03\n",
      "Financial Transaction Processing         1.808000e+03\n",
      "Energy                                   1.083000e+03\n",
      "Electrical & Electronic Manufacturing    7.730000e+02\n",
      "Investment Banking & Asset Management    7.600000e+02\n",
      "Advertising & Marketing                  6.810000e+02\n",
      "Biotech & Pharmaceuticals                4.200000e+02\n",
      "Banks & Building Societies               8.000000e+01\n",
      "Chemical Manufacturing                   2.800000e+01\n",
      "Brokerage Services                       1.900000e+01\n",
      "Sector\n",
      "                                        salary\n",
      "Sector                                        \n",
      "Media                             3.084051e+06\n",
      "Insurance                         2.425730e+06\n",
      "Healthcare                        1.095602e+06\n",
      "Telecommunications                1.044610e+06\n",
      "Education                         6.914710e+05\n",
      "Business Services                 6.900155e+05\n",
      "Arts, Entertainment & Recreation  6.466510e+05\n",
      "Retail                            4.869720e+05\n",
      "Information Technology            4.167580e+05\n",
      "-1                                3.397830e+05\n",
      "Manufacturing                     2.094323e+05\n",
      "Finance                           1.167303e+05\n",
      "Oil, Gas, Energy & Utilities      2.586000e+03\n",
      "Biotech & Pharmaceuticals         4.200000e+02\n",
      "Revenue\n",
      "                                        salary\n",
      "Revenue                                       \n",
      "₹500 million to ₹1 billion (INR)  1.064496e+06\n",
      "₹100 to ₹500 billion (INR)        8.092847e+05\n",
      "₹500+ billion (INR)               6.918772e+05\n",
      "₹10 to ₹50 billion (INR)          6.007698e+05\n",
      "₹1 to ₹5 billion (INR)            5.460521e+05\n",
      "Unknown / Non-Applicable          4.192752e+05\n",
      "₹100 to ₹500 million (INR)        5.110000e+02\n",
      "₹50 to ₹100 million (INR)         1.110000e+02\n",
      "₹50 to ₹100 billion (INR)         2.800000e+01\n",
      "₹10 to ₹50 million (INR)          1.800000e+01\n",
      "num_comp\n",
      "                 salary\n",
      "num_comp               \n",
      "1         857372.500000\n",
      "3         813855.111111\n",
      "2         525887.750000\n",
      "0         344598.796610\n",
      "python_yn\n",
      "                  salary\n",
      "python_yn               \n",
      "1          522784.645570\n",
      "0          371055.846154\n",
      "R_yn\n",
      "             salary\n",
      "R_yn               \n",
      "0     501344.706522\n",
      "spark\n",
      "            salary\n",
      "spark             \n",
      "1      529888.3125\n",
      "0      486121.4500\n",
      "aws\n",
      "            salary\n",
      "aws               \n",
      "1    768665.952381\n",
      "0    422277.859155\n",
      "excel\n",
      "              salary\n",
      "excel               \n",
      "0      583454.245283\n",
      "1      389759.948718\n",
      "Type of ownership\n",
      "                                       salary\n",
      "Type of ownership                            \n",
      "Company - Public                650601.296296\n",
      "Company - Private               460534.822581\n",
      "Subsidiary or Business Segment    2353.000000\n",
      "Unknown                           1961.000000\n",
      "Self-employed                        5.000000\n",
      "salary\n"
     ]
    },
    {
     "ename": "ValueError",
     "evalue": "Grouper for 'salary' not 1-dimensional",
     "output_type": "error",
     "traceback": [
      "\u001b[1;31m---------------------------------------------------------------------------\u001b[0m",
      "\u001b[1;31mValueError\u001b[0m                                Traceback (most recent call last)",
      "\u001b[1;32m<ipython-input-47-f8d92d7d5f97>\u001b[0m in \u001b[0;36m<module>\u001b[1;34m\u001b[0m\n\u001b[0;32m      1\u001b[0m \u001b[1;32mfor\u001b[0m \u001b[0mi\u001b[0m \u001b[1;32min\u001b[0m \u001b[0mdf_pivots\u001b[0m\u001b[1;33m.\u001b[0m\u001b[0mcolumns\u001b[0m\u001b[1;33m:\u001b[0m\u001b[1;33m\u001b[0m\u001b[1;33m\u001b[0m\u001b[0m\n\u001b[0;32m      2\u001b[0m     \u001b[0mprint\u001b[0m\u001b[1;33m(\u001b[0m\u001b[0mi\u001b[0m\u001b[1;33m)\u001b[0m\u001b[1;33m\u001b[0m\u001b[1;33m\u001b[0m\u001b[0m\n\u001b[1;32m----> 3\u001b[1;33m     \u001b[0mprint\u001b[0m\u001b[1;33m(\u001b[0m\u001b[0mpd\u001b[0m\u001b[1;33m.\u001b[0m\u001b[0mpivot_table\u001b[0m\u001b[1;33m(\u001b[0m\u001b[0mdf_pivots\u001b[0m\u001b[1;33m,\u001b[0m\u001b[0mindex\u001b[0m\u001b[1;33m=\u001b[0m\u001b[0mi\u001b[0m\u001b[1;33m,\u001b[0m\u001b[0mvalues\u001b[0m\u001b[1;33m=\u001b[0m\u001b[1;34m'salary'\u001b[0m\u001b[1;33m)\u001b[0m\u001b[1;33m.\u001b[0m\u001b[0msort_values\u001b[0m\u001b[1;33m(\u001b[0m\u001b[1;34m'salary'\u001b[0m\u001b[1;33m,\u001b[0m\u001b[0mascending\u001b[0m\u001b[1;33m=\u001b[0m\u001b[1;32mFalse\u001b[0m\u001b[1;33m)\u001b[0m\u001b[1;33m)\u001b[0m\u001b[1;33m\u001b[0m\u001b[1;33m\u001b[0m\u001b[0m\n\u001b[0m",
      "\u001b[1;32m~\\AppData\\Local\\Programs\\Python\\Python37-32\\lib\\site-packages\\pandas\\core\\reshape\\pivot.py\u001b[0m in \u001b[0;36mpivot_table\u001b[1;34m(data, values, index, columns, aggfunc, fill_value, margins, dropna, margins_name, observed)\u001b[0m\n\u001b[0;32m     93\u001b[0m         \u001b[0mvalues\u001b[0m \u001b[1;33m=\u001b[0m \u001b[0mlist\u001b[0m\u001b[1;33m(\u001b[0m\u001b[0mvalues\u001b[0m\u001b[1;33m)\u001b[0m\u001b[1;33m\u001b[0m\u001b[1;33m\u001b[0m\u001b[0m\n\u001b[0;32m     94\u001b[0m \u001b[1;33m\u001b[0m\u001b[0m\n\u001b[1;32m---> 95\u001b[1;33m     \u001b[0mgrouped\u001b[0m \u001b[1;33m=\u001b[0m \u001b[0mdata\u001b[0m\u001b[1;33m.\u001b[0m\u001b[0mgroupby\u001b[0m\u001b[1;33m(\u001b[0m\u001b[0mkeys\u001b[0m\u001b[1;33m,\u001b[0m \u001b[0mobserved\u001b[0m\u001b[1;33m=\u001b[0m\u001b[0mobserved\u001b[0m\u001b[1;33m)\u001b[0m\u001b[1;33m\u001b[0m\u001b[1;33m\u001b[0m\u001b[0m\n\u001b[0m\u001b[0;32m     96\u001b[0m     \u001b[0magged\u001b[0m \u001b[1;33m=\u001b[0m \u001b[0mgrouped\u001b[0m\u001b[1;33m.\u001b[0m\u001b[0magg\u001b[0m\u001b[1;33m(\u001b[0m\u001b[0maggfunc\u001b[0m\u001b[1;33m)\u001b[0m\u001b[1;33m\u001b[0m\u001b[1;33m\u001b[0m\u001b[0m\n\u001b[0;32m     97\u001b[0m     \u001b[1;32mif\u001b[0m \u001b[0mdropna\u001b[0m \u001b[1;32mand\u001b[0m \u001b[0misinstance\u001b[0m\u001b[1;33m(\u001b[0m\u001b[0magged\u001b[0m\u001b[1;33m,\u001b[0m \u001b[0mABCDataFrame\u001b[0m\u001b[1;33m)\u001b[0m \u001b[1;32mand\u001b[0m \u001b[0mlen\u001b[0m\u001b[1;33m(\u001b[0m\u001b[0magged\u001b[0m\u001b[1;33m.\u001b[0m\u001b[0mcolumns\u001b[0m\u001b[1;33m)\u001b[0m\u001b[1;33m:\u001b[0m\u001b[1;33m\u001b[0m\u001b[1;33m\u001b[0m\u001b[0m\n",
      "\u001b[1;32m~\\AppData\\Local\\Programs\\Python\\Python37-32\\lib\\site-packages\\pandas\\core\\generic.py\u001b[0m in \u001b[0;36mgroupby\u001b[1;34m(self, by, axis, level, as_index, sort, group_keys, squeeze, observed, **kwargs)\u001b[0m\n\u001b[0;32m   7892\u001b[0m             \u001b[0msqueeze\u001b[0m\u001b[1;33m=\u001b[0m\u001b[0msqueeze\u001b[0m\u001b[1;33m,\u001b[0m\u001b[1;33m\u001b[0m\u001b[1;33m\u001b[0m\u001b[0m\n\u001b[0;32m   7893\u001b[0m             \u001b[0mobserved\u001b[0m\u001b[1;33m=\u001b[0m\u001b[0mobserved\u001b[0m\u001b[1;33m,\u001b[0m\u001b[1;33m\u001b[0m\u001b[1;33m\u001b[0m\u001b[0m\n\u001b[1;32m-> 7894\u001b[1;33m             \u001b[1;33m**\u001b[0m\u001b[0mkwargs\u001b[0m\u001b[1;33m\u001b[0m\u001b[1;33m\u001b[0m\u001b[0m\n\u001b[0m\u001b[0;32m   7895\u001b[0m         )\n\u001b[0;32m   7896\u001b[0m \u001b[1;33m\u001b[0m\u001b[0m\n",
      "\u001b[1;32m~\\AppData\\Local\\Programs\\Python\\Python37-32\\lib\\site-packages\\pandas\\core\\groupby\\groupby.py\u001b[0m in \u001b[0;36mgroupby\u001b[1;34m(obj, by, **kwds)\u001b[0m\n\u001b[0;32m   2520\u001b[0m         \u001b[1;32mraise\u001b[0m \u001b[0mTypeError\u001b[0m\u001b[1;33m(\u001b[0m\u001b[1;34m\"invalid type: {}\"\u001b[0m\u001b[1;33m.\u001b[0m\u001b[0mformat\u001b[0m\u001b[1;33m(\u001b[0m\u001b[0mobj\u001b[0m\u001b[1;33m)\u001b[0m\u001b[1;33m)\u001b[0m\u001b[1;33m\u001b[0m\u001b[1;33m\u001b[0m\u001b[0m\n\u001b[0;32m   2521\u001b[0m \u001b[1;33m\u001b[0m\u001b[0m\n\u001b[1;32m-> 2522\u001b[1;33m     \u001b[1;32mreturn\u001b[0m \u001b[0mklass\u001b[0m\u001b[1;33m(\u001b[0m\u001b[0mobj\u001b[0m\u001b[1;33m,\u001b[0m \u001b[0mby\u001b[0m\u001b[1;33m,\u001b[0m \u001b[1;33m**\u001b[0m\u001b[0mkwds\u001b[0m\u001b[1;33m)\u001b[0m\u001b[1;33m\u001b[0m\u001b[1;33m\u001b[0m\u001b[0m\n\u001b[0m",
      "\u001b[1;32m~\\AppData\\Local\\Programs\\Python\\Python37-32\\lib\\site-packages\\pandas\\core\\groupby\\groupby.py\u001b[0m in \u001b[0;36m__init__\u001b[1;34m(self, obj, keys, axis, level, grouper, exclusions, selection, as_index, sort, group_keys, squeeze, observed, **kwargs)\u001b[0m\n\u001b[0;32m    389\u001b[0m                 \u001b[0msort\u001b[0m\u001b[1;33m=\u001b[0m\u001b[0msort\u001b[0m\u001b[1;33m,\u001b[0m\u001b[1;33m\u001b[0m\u001b[1;33m\u001b[0m\u001b[0m\n\u001b[0;32m    390\u001b[0m                 \u001b[0mobserved\u001b[0m\u001b[1;33m=\u001b[0m\u001b[0mobserved\u001b[0m\u001b[1;33m,\u001b[0m\u001b[1;33m\u001b[0m\u001b[1;33m\u001b[0m\u001b[0m\n\u001b[1;32m--> 391\u001b[1;33m                 \u001b[0mmutated\u001b[0m\u001b[1;33m=\u001b[0m\u001b[0mself\u001b[0m\u001b[1;33m.\u001b[0m\u001b[0mmutated\u001b[0m\u001b[1;33m,\u001b[0m\u001b[1;33m\u001b[0m\u001b[1;33m\u001b[0m\u001b[0m\n\u001b[0m\u001b[0;32m    392\u001b[0m             )\n\u001b[0;32m    393\u001b[0m \u001b[1;33m\u001b[0m\u001b[0m\n",
      "\u001b[1;32m~\\AppData\\Local\\Programs\\Python\\Python37-32\\lib\\site-packages\\pandas\\core\\groupby\\grouper.py\u001b[0m in \u001b[0;36m_get_grouper\u001b[1;34m(obj, key, axis, level, sort, observed, mutated, validate)\u001b[0m\n\u001b[0;32m    650\u001b[0m                 \u001b[0min_axis\u001b[0m\u001b[1;33m=\u001b[0m\u001b[0min_axis\u001b[0m\u001b[1;33m,\u001b[0m\u001b[1;33m\u001b[0m\u001b[1;33m\u001b[0m\u001b[0m\n\u001b[0;32m    651\u001b[0m             )\n\u001b[1;32m--> 652\u001b[1;33m             \u001b[1;32mif\u001b[0m \u001b[1;32mnot\u001b[0m \u001b[0misinstance\u001b[0m\u001b[1;33m(\u001b[0m\u001b[0mgpr\u001b[0m\u001b[1;33m,\u001b[0m \u001b[0mGrouping\u001b[0m\u001b[1;33m)\u001b[0m\u001b[1;33m\u001b[0m\u001b[1;33m\u001b[0m\u001b[0m\n\u001b[0m\u001b[0;32m    653\u001b[0m             \u001b[1;32melse\u001b[0m \u001b[0mgpr\u001b[0m\u001b[1;33m\u001b[0m\u001b[1;33m\u001b[0m\u001b[0m\n\u001b[0;32m    654\u001b[0m         )\n",
      "\u001b[1;32m~\\AppData\\Local\\Programs\\Python\\Python37-32\\lib\\site-packages\\pandas\\core\\groupby\\grouper.py\u001b[0m in \u001b[0;36m__init__\u001b[1;34m(self, index, grouper, obj, name, level, sort, observed, in_axis)\u001b[0m\n\u001b[0;32m    345\u001b[0m                 \u001b[1;32mif\u001b[0m \u001b[0mgetattr\u001b[0m\u001b[1;33m(\u001b[0m\u001b[0mself\u001b[0m\u001b[1;33m.\u001b[0m\u001b[0mgrouper\u001b[0m\u001b[1;33m,\u001b[0m \u001b[1;34m\"ndim\"\u001b[0m\u001b[1;33m,\u001b[0m \u001b[1;36m1\u001b[0m\u001b[1;33m)\u001b[0m \u001b[1;33m!=\u001b[0m \u001b[1;36m1\u001b[0m\u001b[1;33m:\u001b[0m\u001b[1;33m\u001b[0m\u001b[1;33m\u001b[0m\u001b[0m\n\u001b[0;32m    346\u001b[0m                     \u001b[0mt\u001b[0m \u001b[1;33m=\u001b[0m \u001b[0mself\u001b[0m\u001b[1;33m.\u001b[0m\u001b[0mname\u001b[0m \u001b[1;32mor\u001b[0m \u001b[0mstr\u001b[0m\u001b[1;33m(\u001b[0m\u001b[0mtype\u001b[0m\u001b[1;33m(\u001b[0m\u001b[0mself\u001b[0m\u001b[1;33m.\u001b[0m\u001b[0mgrouper\u001b[0m\u001b[1;33m)\u001b[0m\u001b[1;33m)\u001b[0m\u001b[1;33m\u001b[0m\u001b[1;33m\u001b[0m\u001b[0m\n\u001b[1;32m--> 347\u001b[1;33m                     \u001b[1;32mraise\u001b[0m \u001b[0mValueError\u001b[0m\u001b[1;33m(\u001b[0m\u001b[1;34m\"Grouper for '{}' not 1-dimensional\"\u001b[0m\u001b[1;33m.\u001b[0m\u001b[0mformat\u001b[0m\u001b[1;33m(\u001b[0m\u001b[0mt\u001b[0m\u001b[1;33m)\u001b[0m\u001b[1;33m)\u001b[0m\u001b[1;33m\u001b[0m\u001b[1;33m\u001b[0m\u001b[0m\n\u001b[0m\u001b[0;32m    348\u001b[0m                 \u001b[0mself\u001b[0m\u001b[1;33m.\u001b[0m\u001b[0mgrouper\u001b[0m \u001b[1;33m=\u001b[0m \u001b[0mself\u001b[0m\u001b[1;33m.\u001b[0m\u001b[0mindex\u001b[0m\u001b[1;33m.\u001b[0m\u001b[0mmap\u001b[0m\u001b[1;33m(\u001b[0m\u001b[0mself\u001b[0m\u001b[1;33m.\u001b[0m\u001b[0mgrouper\u001b[0m\u001b[1;33m)\u001b[0m\u001b[1;33m\u001b[0m\u001b[1;33m\u001b[0m\u001b[0m\n\u001b[0;32m    349\u001b[0m                 if not (\n",
      "\u001b[1;31mValueError\u001b[0m: Grouper for 'salary' not 1-dimensional"
     ]
    }
   ],
   "source": [
    "for i in df_pivots.columns:\n",
    "    print(i)\n",
    "    print(pd.pivot_table(df_pivots,index=i,values='salary').sort_values('salary',ascending=False))"
   ]
  },
  {
   "cell_type": "code",
   "execution_count": 48,
   "metadata": {},
   "outputs": [
    {
     "data": {
      "text/html": [
       "<div>\n",
       "<style scoped>\n",
       "    .dataframe tbody tr th:only-of-type {\n",
       "        vertical-align: middle;\n",
       "    }\n",
       "\n",
       "    .dataframe tbody tr th {\n",
       "        vertical-align: top;\n",
       "    }\n",
       "\n",
       "    .dataframe thead th {\n",
       "        text-align: right;\n",
       "    }\n",
       "</style>\n",
       "<table border=\"1\" class=\"dataframe\">\n",
       "  <thead>\n",
       "    <tr style=\"text-align: right;\">\n",
       "      <th>python_yn</th>\n",
       "      <th>0</th>\n",
       "      <th>1</th>\n",
       "    </tr>\n",
       "    <tr>\n",
       "      <th>Revenue</th>\n",
       "      <th></th>\n",
       "      <th></th>\n",
       "    </tr>\n",
       "  </thead>\n",
       "  <tbody>\n",
       "    <tr>\n",
       "      <th>Unknown / Non-Applicable</th>\n",
       "      <td>6.0</td>\n",
       "      <td>36.0</td>\n",
       "    </tr>\n",
       "    <tr>\n",
       "      <th>₹1 to ₹5 billion (INR)</th>\n",
       "      <td>NaN</td>\n",
       "      <td>9.0</td>\n",
       "    </tr>\n",
       "    <tr>\n",
       "      <th>₹10 to ₹50 billion (INR)</th>\n",
       "      <td>1.0</td>\n",
       "      <td>3.0</td>\n",
       "    </tr>\n",
       "    <tr>\n",
       "      <th>₹10 to ₹50 million (INR)</th>\n",
       "      <td>NaN</td>\n",
       "      <td>4.0</td>\n",
       "    </tr>\n",
       "    <tr>\n",
       "      <th>₹100 to ₹500 billion (INR)</th>\n",
       "      <td>NaN</td>\n",
       "      <td>6.0</td>\n",
       "    </tr>\n",
       "    <tr>\n",
       "      <th>₹100 to ₹500 million (INR)</th>\n",
       "      <td>NaN</td>\n",
       "      <td>3.0</td>\n",
       "    </tr>\n",
       "    <tr>\n",
       "      <th>₹50 to ₹100 billion (INR)</th>\n",
       "      <td>NaN</td>\n",
       "      <td>1.0</td>\n",
       "    </tr>\n",
       "    <tr>\n",
       "      <th>₹50 to ₹100 million (INR)</th>\n",
       "      <td>NaN</td>\n",
       "      <td>1.0</td>\n",
       "    </tr>\n",
       "    <tr>\n",
       "      <th>₹500 million to ₹1 billion (INR)</th>\n",
       "      <td>1.0</td>\n",
       "      <td>2.0</td>\n",
       "    </tr>\n",
       "    <tr>\n",
       "      <th>₹500+ billion (INR)</th>\n",
       "      <td>5.0</td>\n",
       "      <td>14.0</td>\n",
       "    </tr>\n",
       "  </tbody>\n",
       "</table>\n",
       "</div>"
      ],
      "text/plain": [
       "python_yn                           0     1\n",
       "Revenue                                    \n",
       "Unknown / Non-Applicable          6.0  36.0\n",
       "₹1 to ₹5 billion (INR)            NaN   9.0\n",
       "₹10 to ₹50 billion (INR)          1.0   3.0\n",
       "₹10 to ₹50 million (INR)          NaN   4.0\n",
       "₹100 to ₹500 billion (INR)        NaN   6.0\n",
       "₹100 to ₹500 million (INR)        NaN   3.0\n",
       "₹50 to ₹100 billion (INR)         NaN   1.0\n",
       "₹50 to ₹100 million (INR)         NaN   1.0\n",
       "₹500 million to ₹1 billion (INR)  1.0   2.0\n",
       "₹500+ billion (INR)               5.0  14.0"
      ]
     },
     "execution_count": 48,
     "metadata": {},
     "output_type": "execute_result"
    }
   ],
   "source": [
    "pd.pivot_table(df_pivots, index = 'Revenue', columns = 'python_yn', values = 'salary', aggfunc = 'count')"
   ]
  },
  {
   "cell_type": "code",
   "execution_count": 49,
   "metadata": {},
   "outputs": [
    {
     "data": {
      "text/html": [
       "<div>\n",
       "<style scoped>\n",
       "    .dataframe tbody tr th:only-of-type {\n",
       "        vertical-align: middle;\n",
       "    }\n",
       "\n",
       "    .dataframe tbody tr th {\n",
       "        vertical-align: top;\n",
       "    }\n",
       "\n",
       "    .dataframe thead th {\n",
       "        text-align: right;\n",
       "    }\n",
       "</style>\n",
       "<table border=\"1\" class=\"dataframe\">\n",
       "  <thead>\n",
       "    <tr style=\"text-align: right;\">\n",
       "      <th>aws</th>\n",
       "      <th>0</th>\n",
       "      <th>1</th>\n",
       "    </tr>\n",
       "    <tr>\n",
       "      <th>Revenue</th>\n",
       "      <th></th>\n",
       "      <th></th>\n",
       "    </tr>\n",
       "  </thead>\n",
       "  <tbody>\n",
       "    <tr>\n",
       "      <th>Unknown / Non-Applicable</th>\n",
       "      <td>33.0</td>\n",
       "      <td>9.0</td>\n",
       "    </tr>\n",
       "    <tr>\n",
       "      <th>₹1 to ₹5 billion (INR)</th>\n",
       "      <td>8.0</td>\n",
       "      <td>1.0</td>\n",
       "    </tr>\n",
       "    <tr>\n",
       "      <th>₹10 to ₹50 billion (INR)</th>\n",
       "      <td>4.0</td>\n",
       "      <td>NaN</td>\n",
       "    </tr>\n",
       "    <tr>\n",
       "      <th>₹10 to ₹50 million (INR)</th>\n",
       "      <td>4.0</td>\n",
       "      <td>NaN</td>\n",
       "    </tr>\n",
       "    <tr>\n",
       "      <th>₹100 to ₹500 billion (INR)</th>\n",
       "      <td>1.0</td>\n",
       "      <td>5.0</td>\n",
       "    </tr>\n",
       "    <tr>\n",
       "      <th>₹100 to ₹500 million (INR)</th>\n",
       "      <td>3.0</td>\n",
       "      <td>NaN</td>\n",
       "    </tr>\n",
       "    <tr>\n",
       "      <th>₹50 to ₹100 billion (INR)</th>\n",
       "      <td>1.0</td>\n",
       "      <td>NaN</td>\n",
       "    </tr>\n",
       "    <tr>\n",
       "      <th>₹50 to ₹100 million (INR)</th>\n",
       "      <td>1.0</td>\n",
       "      <td>NaN</td>\n",
       "    </tr>\n",
       "    <tr>\n",
       "      <th>₹500 million to ₹1 billion (INR)</th>\n",
       "      <td>2.0</td>\n",
       "      <td>1.0</td>\n",
       "    </tr>\n",
       "    <tr>\n",
       "      <th>₹500+ billion (INR)</th>\n",
       "      <td>14.0</td>\n",
       "      <td>5.0</td>\n",
       "    </tr>\n",
       "  </tbody>\n",
       "</table>\n",
       "</div>"
      ],
      "text/plain": [
       "aws                                  0    1\n",
       "Revenue                                    \n",
       "Unknown / Non-Applicable          33.0  9.0\n",
       "₹1 to ₹5 billion (INR)             8.0  1.0\n",
       "₹10 to ₹50 billion (INR)           4.0  NaN\n",
       "₹10 to ₹50 million (INR)           4.0  NaN\n",
       "₹100 to ₹500 billion (INR)         1.0  5.0\n",
       "₹100 to ₹500 million (INR)         3.0  NaN\n",
       "₹50 to ₹100 billion (INR)          1.0  NaN\n",
       "₹50 to ₹100 million (INR)          1.0  NaN\n",
       "₹500 million to ₹1 billion (INR)   2.0  1.0\n",
       "₹500+ billion (INR)               14.0  5.0"
      ]
     },
     "execution_count": 49,
     "metadata": {},
     "output_type": "execute_result"
    }
   ],
   "source": [
    "pd.pivot_table(df_pivots, index = 'Revenue', columns = 'aws', values = 'salary', aggfunc = 'count')"
   ]
  },
  {
   "cell_type": "code",
   "execution_count": 51,
   "metadata": {},
   "outputs": [
    {
     "name": "stdout",
     "output_type": "stream",
     "text": [
      "Collecting wordcloud\n",
      "  Downloading wordcloud-1.7.0.tar.gz (216 kB)\n",
      "Requirement already satisfied: numpy>=1.6.1 in c:\\users\\dell\\appdata\\local\\programs\\python\\python37-32\\lib\\site-packages (from wordcloud) (1.18.1)\n",
      "Collecting pillow\n",
      "  Downloading Pillow-7.2.0-cp37-cp37m-win32.whl (1.8 MB)\n",
      "Requirement already satisfied: matplotlib in c:\\users\\dell\\appdata\\local\\programs\\python\\python37-32\\lib\\site-packages (from wordcloud) (3.1.2)\n",
      "Requirement already satisfied: python-dateutil>=2.1 in c:\\users\\dell\\appdata\\local\\programs\\python\\python37-32\\lib\\site-packages (from matplotlib->wordcloud) (2.8.1)\n",
      "Requirement already satisfied: cycler>=0.10 in c:\\users\\dell\\appdata\\local\\programs\\python\\python37-32\\lib\\site-packages (from matplotlib->wordcloud) (0.10.0)\n",
      "Requirement already satisfied: pyparsing!=2.0.4,!=2.1.2,!=2.1.6,>=2.0.1 in c:\\users\\dell\\appdata\\local\\programs\\python\\python37-32\\lib\\site-packages (from matplotlib->wordcloud) (2.4.6)\n",
      "Requirement already satisfied: kiwisolver>=1.0.1 in c:\\users\\dell\\appdata\\local\\programs\\python\\python37-32\\lib\\site-packages (from matplotlib->wordcloud) (1.1.0)\n",
      "Requirement already satisfied: six>=1.5 in c:\\users\\dell\\appdata\\local\\programs\\python\\python37-32\\lib\\site-packages (from python-dateutil>=2.1->matplotlib->wordcloud) (1.13.0)\n",
      "Requirement already satisfied: setuptools in c:\\users\\dell\\appdata\\local\\programs\\python\\python37-32\\lib\\site-packages (from kiwisolver>=1.0.1->matplotlib->wordcloud) (40.6.2)\n",
      "Using legacy setup.py install for wordcloud, since package 'wheel' is not installed.\n",
      "Installing collected packages: pillow, wordcloud\n",
      "    Running setup.py install for wordcloud: started\n",
      "    Running setup.py install for wordcloud: finished with status 'error'\n"
     ]
    },
    {
     "name": "stderr",
     "output_type": "stream",
     "text": [
      "    ERROR: Command errored out with exit status 1:\n",
      "     command: 'c:\\users\\dell\\appdata\\local\\programs\\python\\python37-32\\python.exe' -u -c 'import sys, setuptools, tokenize; sys.argv[0] = '\"'\"'C:\\\\Users\\\\Dell\\\\AppData\\\\Local\\\\Temp\\\\pip-install-4qdwbuem\\\\wordcloud\\\\setup.py'\"'\"'; __file__='\"'\"'C:\\\\Users\\\\Dell\\\\AppData\\\\Local\\\\Temp\\\\pip-install-4qdwbuem\\\\wordcloud\\\\setup.py'\"'\"';f=getattr(tokenize, '\"'\"'open'\"'\"', open)(__file__);code=f.read().replace('\"'\"'\\r\\n'\"'\"', '\"'\"'\\n'\"'\"');f.close();exec(compile(code, __file__, '\"'\"'exec'\"'\"'))' install --record 'C:\\Users\\Dell\\AppData\\Local\\Temp\\pip-record-v169f0wg\\install-record.txt' --single-version-externally-managed --compile --install-headers 'c:\\users\\dell\\appdata\\local\\programs\\python\\python37-32\\Include\\wordcloud'\n",
      "         cwd: C:\\Users\\Dell\\AppData\\Local\\Temp\\pip-install-4qdwbuem\\wordcloud\\\n",
      "    Complete output (20 lines):\n",
      "    running install\n",
      "    running build\n",
      "    running build_py\n",
      "    creating build\n",
      "    creating build\\lib.win32-3.7\n",
      "    creating build\\lib.win32-3.7\\wordcloud\n",
      "    copying wordcloud\\color_from_image.py -> build\\lib.win32-3.7\\wordcloud\n",
      "    copying wordcloud\\tokenization.py -> build\\lib.win32-3.7\\wordcloud\n",
      "    copying wordcloud\\wordcloud.py -> build\\lib.win32-3.7\\wordcloud\n",
      "    copying wordcloud\\wordcloud_cli.py -> build\\lib.win32-3.7\\wordcloud\n",
      "    copying wordcloud\\_version.py -> build\\lib.win32-3.7\\wordcloud\n",
      "    copying wordcloud\\__init__.py -> build\\lib.win32-3.7\\wordcloud\n",
      "    copying wordcloud\\__main__.py -> build\\lib.win32-3.7\\wordcloud\n",
      "    copying wordcloud\\stopwords -> build\\lib.win32-3.7\\wordcloud\n",
      "    copying wordcloud\\DroidSansMono.ttf -> build\\lib.win32-3.7\\wordcloud\n",
      "    UPDATING build\\lib.win32-3.7\\wordcloud/_version.py\n",
      "    set build\\lib.win32-3.7\\wordcloud/_version.py to '1.7.0'\n",
      "    running build_ext\n",
      "    building 'wordcloud.query_integral_image' extension\n",
      "    error: Microsoft Visual C++ 14.0 is required. Get it with \"Microsoft Visual C++ Build Tools\": https://visualstudio.microsoft.com/downloads/\n",
      "    ----------------------------------------\n",
      "ERROR: Command errored out with exit status 1: 'c:\\users\\dell\\appdata\\local\\programs\\python\\python37-32\\python.exe' -u -c 'import sys, setuptools, tokenize; sys.argv[0] = '\"'\"'C:\\\\Users\\\\Dell\\\\AppData\\\\Local\\\\Temp\\\\pip-install-4qdwbuem\\\\wordcloud\\\\setup.py'\"'\"'; __file__='\"'\"'C:\\\\Users\\\\Dell\\\\AppData\\\\Local\\\\Temp\\\\pip-install-4qdwbuem\\\\wordcloud\\\\setup.py'\"'\"';f=getattr(tokenize, '\"'\"'open'\"'\"', open)(__file__);code=f.read().replace('\"'\"'\\r\\n'\"'\"', '\"'\"'\\n'\"'\"');f.close();exec(compile(code, __file__, '\"'\"'exec'\"'\"'))' install --record 'C:\\Users\\Dell\\AppData\\Local\\Temp\\pip-record-v169f0wg\\install-record.txt' --single-version-externally-managed --compile --install-headers 'c:\\users\\dell\\appdata\\local\\programs\\python\\python37-32\\Include\\wordcloud' Check the logs for full command output.\n"
     ]
    }
   ],
   "source": [
    "!pip install wordcloud"
   ]
  },
  {
   "cell_type": "code",
   "execution_count": 52,
   "metadata": {},
   "outputs": [
    {
     "ename": "ModuleNotFoundError",
     "evalue": "No module named 'wordcloud'",
     "output_type": "error",
     "traceback": [
      "\u001b[1;31m---------------------------------------------------------------------------\u001b[0m",
      "\u001b[1;31mModuleNotFoundError\u001b[0m                       Traceback (most recent call last)",
      "\u001b[1;32m<ipython-input-52-92298c528d81>\u001b[0m in \u001b[0;36m<module>\u001b[1;34m\u001b[0m\n\u001b[1;32m----> 1\u001b[1;33m \u001b[1;32mfrom\u001b[0m \u001b[0mwordcloud\u001b[0m \u001b[1;32mimport\u001b[0m \u001b[0mWordCloud\u001b[0m\u001b[1;33m,\u001b[0m \u001b[0mImageColorGenerator\u001b[0m\u001b[1;33m,\u001b[0m \u001b[0mSTOPWORDS\u001b[0m\u001b[1;33m\u001b[0m\u001b[1;33m\u001b[0m\u001b[0m\n\u001b[0m\u001b[0;32m      2\u001b[0m \u001b[1;32mfrom\u001b[0m \u001b[0mnltk\u001b[0m\u001b[1;33m.\u001b[0m\u001b[0mcorpus\u001b[0m \u001b[1;32mimport\u001b[0m \u001b[0mstopwords\u001b[0m\u001b[1;33m\u001b[0m\u001b[1;33m\u001b[0m\u001b[0m\n\u001b[0;32m      3\u001b[0m \u001b[1;32mfrom\u001b[0m \u001b[0mnltk\u001b[0m\u001b[1;33m.\u001b[0m\u001b[0mtokenize\u001b[0m \u001b[1;32mimport\u001b[0m \u001b[0mword_tokenize\u001b[0m\u001b[1;33m\u001b[0m\u001b[1;33m\u001b[0m\u001b[0m\n",
      "\u001b[1;31mModuleNotFoundError\u001b[0m: No module named 'wordcloud'"
     ]
    }
   ],
   "source": [
    "from wordcloud import WordCloud, ImageColorGenerator, STOPWORDS\n",
    "from nltk.corpus import stopwords\n",
    "from nltk.tokenize import word_tokenize"
   ]
  },
  {
   "cell_type": "code",
   "execution_count": 53,
   "metadata": {},
   "outputs": [
    {
     "data": {
      "text/html": [
       "<div>\n",
       "<style scoped>\n",
       "    .dataframe tbody tr th:only-of-type {\n",
       "        vertical-align: middle;\n",
       "    }\n",
       "\n",
       "    .dataframe tbody tr th {\n",
       "        vertical-align: top;\n",
       "    }\n",
       "\n",
       "    .dataframe thead th {\n",
       "        text-align: right;\n",
       "    }\n",
       "</style>\n",
       "<table border=\"1\" class=\"dataframe\">\n",
       "  <thead>\n",
       "    <tr style=\"text-align: right;\">\n",
       "      <th></th>\n",
       "      <th>Job Title</th>\n",
       "      <th>Salary Estimate</th>\n",
       "      <th>Job Description</th>\n",
       "      <th>Rating</th>\n",
       "      <th>Company Name</th>\n",
       "      <th>Location</th>\n",
       "      <th>Headquarters</th>\n",
       "      <th>Size</th>\n",
       "      <th>Founded</th>\n",
       "      <th>Type of ownership</th>\n",
       "      <th>...</th>\n",
       "      <th>age</th>\n",
       "      <th>python_yn</th>\n",
       "      <th>R_yn</th>\n",
       "      <th>spark</th>\n",
       "      <th>aws</th>\n",
       "      <th>excel</th>\n",
       "      <th>job_simp</th>\n",
       "      <th>seniority</th>\n",
       "      <th>desc_len</th>\n",
       "      <th>num_comp</th>\n",
       "    </tr>\n",
       "  </thead>\n",
       "  <tbody>\n",
       "    <tr>\n",
       "      <th>0</th>\n",
       "      <td>Data Engineer</td>\n",
       "      <td>₹59K - ₹64K</td>\n",
       "      <td>About phData\\n\\nWe build next-generation strat...</td>\n",
       "      <td>2.9</td>\n",
       "      <td>Data Engineer</td>\n",
       "      <td>Bengaluru</td>\n",
       "      <td>Minneapolis, MN</td>\n",
       "      <td>51 to 200 employees</td>\n",
       "      <td>2014</td>\n",
       "      <td>Company - Private</td>\n",
       "      <td>...</td>\n",
       "      <td>6</td>\n",
       "      <td>1</td>\n",
       "      <td>0</td>\n",
       "      <td>1</td>\n",
       "      <td>1</td>\n",
       "      <td>1</td>\n",
       "      <td>data engineer</td>\n",
       "      <td>na</td>\n",
       "      <td>3541</td>\n",
       "      <td>0</td>\n",
       "    </tr>\n",
       "    <tr>\n",
       "      <th>1</th>\n",
       "      <td>Data Scientist</td>\n",
       "      <td>₹2,353K - ₹2,511K</td>\n",
       "      <td>Position: Data Scientist\\n\\nLocation: Pune, In...</td>\n",
       "      <td>3.9</td>\n",
       "      <td>Data Scientist</td>\n",
       "      <td>Pune</td>\n",
       "      <td>Hoboken, NJ</td>\n",
       "      <td>501 to 1000 employees</td>\n",
       "      <td>1999</td>\n",
       "      <td>Subsidiary or Business Segment</td>\n",
       "      <td>...</td>\n",
       "      <td>21</td>\n",
       "      <td>1</td>\n",
       "      <td>0</td>\n",
       "      <td>0</td>\n",
       "      <td>0</td>\n",
       "      <td>1</td>\n",
       "      <td>data scientist</td>\n",
       "      <td>na</td>\n",
       "      <td>2970</td>\n",
       "      <td>2</td>\n",
       "    </tr>\n",
       "    <tr>\n",
       "      <th>2</th>\n",
       "      <td>Data Scientist</td>\n",
       "      <td>₹1,471,718</td>\n",
       "      <td>Date: Jul 9, 2020\\n\\nAs the tech firm that cre...</td>\n",
       "      <td>3.9</td>\n",
       "      <td>Data Scientist</td>\n",
       "      <td>Noida</td>\n",
       "      <td>Stockholm, Sweden</td>\n",
       "      <td>10000+ employees</td>\n",
       "      <td>1876</td>\n",
       "      <td>Company - Public</td>\n",
       "      <td>...</td>\n",
       "      <td>144</td>\n",
       "      <td>1</td>\n",
       "      <td>0</td>\n",
       "      <td>0</td>\n",
       "      <td>0</td>\n",
       "      <td>1</td>\n",
       "      <td>data scientist</td>\n",
       "      <td>na</td>\n",
       "      <td>3856</td>\n",
       "      <td>3</td>\n",
       "    </tr>\n",
       "    <tr>\n",
       "      <th>3</th>\n",
       "      <td>Data Scientist</td>\n",
       "      <td>₹1,532,392</td>\n",
       "      <td>At Amazon, we strive to be most customer-centr...</td>\n",
       "      <td>4.3</td>\n",
       "      <td>Data Scientist</td>\n",
       "      <td>Hyderabad</td>\n",
       "      <td>Seattle, WA</td>\n",
       "      <td>10000+ employees</td>\n",
       "      <td>1994</td>\n",
       "      <td>Company - Public</td>\n",
       "      <td>...</td>\n",
       "      <td>26</td>\n",
       "      <td>1</td>\n",
       "      <td>0</td>\n",
       "      <td>1</td>\n",
       "      <td>1</td>\n",
       "      <td>1</td>\n",
       "      <td>data scientist</td>\n",
       "      <td>na</td>\n",
       "      <td>4616</td>\n",
       "      <td>3</td>\n",
       "    </tr>\n",
       "    <tr>\n",
       "      <th>4</th>\n",
       "      <td>Data Scientist</td>\n",
       "      <td>₹1,206,892</td>\n",
       "      <td>Introduction\\n• The role will involve running ...</td>\n",
       "      <td>3.9</td>\n",
       "      <td>Data Scientist</td>\n",
       "      <td>Gurgaon</td>\n",
       "      <td>Armonk, NY</td>\n",
       "      <td>10000+ employees</td>\n",
       "      <td>1911</td>\n",
       "      <td>Company - Public</td>\n",
       "      <td>...</td>\n",
       "      <td>109</td>\n",
       "      <td>1</td>\n",
       "      <td>0</td>\n",
       "      <td>0</td>\n",
       "      <td>0</td>\n",
       "      <td>0</td>\n",
       "      <td>data scientist</td>\n",
       "      <td>na</td>\n",
       "      <td>3937</td>\n",
       "      <td>3</td>\n",
       "    </tr>\n",
       "  </tbody>\n",
       "</table>\n",
       "<p>5 rows × 26 columns</p>\n",
       "</div>"
      ],
      "text/plain": [
       "        Job Title    Salary Estimate  \\\n",
       "0   Data Engineer        ₹59K - ₹64K   \n",
       "1  Data Scientist  ₹2,353K - ₹2,511K   \n",
       "2  Data Scientist         ₹1,471,718   \n",
       "3  Data Scientist         ₹1,532,392   \n",
       "4  Data Scientist         ₹1,206,892   \n",
       "\n",
       "                                     Job Description  Rating    Company Name  \\\n",
       "0  About phData\\n\\nWe build next-generation strat...     2.9   Data Engineer   \n",
       "1  Position: Data Scientist\\n\\nLocation: Pune, In...     3.9  Data Scientist   \n",
       "2  Date: Jul 9, 2020\\n\\nAs the tech firm that cre...     3.9  Data Scientist   \n",
       "3  At Amazon, we strive to be most customer-centr...     4.3  Data Scientist   \n",
       "4  Introduction\\n• The role will involve running ...     3.9  Data Scientist   \n",
       "\n",
       "    Location       Headquarters                   Size  Founded  \\\n",
       "0  Bengaluru    Minneapolis, MN    51 to 200 employees     2014   \n",
       "1       Pune        Hoboken, NJ  501 to 1000 employees     1999   \n",
       "2      Noida  Stockholm, Sweden       10000+ employees     1876   \n",
       "3  Hyderabad        Seattle, WA       10000+ employees     1994   \n",
       "4    Gurgaon         Armonk, NY       10000+ employees     1911   \n",
       "\n",
       "                Type of ownership  ...  age python_yn R_yn spark  aws  excel  \\\n",
       "0               Company - Private  ...    6         1    0     1    1      1   \n",
       "1  Subsidiary or Business Segment  ...   21         1    0     0    0      1   \n",
       "2                Company - Public  ...  144         1    0     0    0      1   \n",
       "3                Company - Public  ...   26         1    0     1    1      1   \n",
       "4                Company - Public  ...  109         1    0     0    0      0   \n",
       "\n",
       "         job_simp  seniority  desc_len  num_comp  \n",
       "0   data engineer         na      3541         0  \n",
       "1  data scientist         na      2970         2  \n",
       "2  data scientist         na      3856         3  \n",
       "3  data scientist         na      4616         3  \n",
       "4  data scientist         na      3937         3  \n",
       "\n",
       "[5 rows x 26 columns]"
      ]
     },
     "execution_count": 53,
     "metadata": {},
     "output_type": "execute_result"
    }
   ],
   "source": [
    "df.head()"
   ]
  },
  {
   "cell_type": "code",
   "execution_count": 55,
   "metadata": {},
   "outputs": [],
   "source": [
    "df.to_csv('eda_data.csv',index=0)"
   ]
  },
  {
   "cell_type": "code",
   "execution_count": null,
   "metadata": {},
   "outputs": [],
   "source": []
  }
 ],
 "metadata": {
  "kernelspec": {
   "display_name": "Python 3",
   "language": "python",
   "name": "python3"
  },
  "language_info": {
   "codemirror_mode": {
    "name": "ipython",
    "version": 3
   },
   "file_extension": ".py",
   "mimetype": "text/x-python",
   "name": "python",
   "nbconvert_exporter": "python",
   "pygments_lexer": "ipython3",
   "version": "3.7.2"
  }
 },
 "nbformat": 4,
 "nbformat_minor": 4
}
